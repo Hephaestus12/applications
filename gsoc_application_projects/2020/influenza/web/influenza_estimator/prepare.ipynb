{
 "cells": [
  {
   "cell_type": "code",
   "execution_count": 8,
   "outputs": [],
   "source": [
    "import pandas as pd\n",
    "import numpy as np\n",
    "from pathlib import Path\n",
    "import pickle"
   ],
   "metadata": {
    "collapsed": false,
    "pycharm": {
     "name": "#%%\n"
    }
   }
  },
  {
   "cell_type": "code",
   "execution_count": 9,
   "metadata": {
    "collapsed": true,
    "pycharm": {
     "name": "#%%\n"
    }
   },
   "outputs": [],
   "source": [
    "column_names = [\"country\", \"last_checked\", \"estimate\"]\n",
    "data = [['austria', '2020-06-07', 694.5881009475402],\n",
    "        ['belgium', '2020-06-07', 411.36811373870006],\n",
    "        ['germany', '2020-06-07', 11.756],\n",
    "        ['italy', '2020-06-07', 8.456000000000001],\n",
    "        ['netherlands', '2020-06-07', 88.06163623878001]]\n",
    "df = pd.DataFrame(data, columns = column_names)"
   ]
  },
  {
   "cell_type": "code",
   "execution_count": 10,
   "outputs": [
    {
     "data": {
      "text/html": "<div>\n<style scoped>\n    .dataframe tbody tr th:only-of-type {\n        vertical-align: middle;\n    }\n\n    .dataframe tbody tr th {\n        vertical-align: top;\n    }\n\n    .dataframe thead th {\n        text-align: right;\n    }\n</style>\n<table border=\"1\" class=\"dataframe\">\n  <thead>\n    <tr style=\"text-align: right;\">\n      <th></th>\n      <th>country</th>\n      <th>last_checked</th>\n      <th>estimate</th>\n    </tr>\n  </thead>\n  <tbody>\n    <tr>\n      <th>0</th>\n      <td>austria</td>\n      <td>2020-06-07</td>\n      <td>694.588101</td>\n    </tr>\n    <tr>\n      <th>1</th>\n      <td>belgium</td>\n      <td>2020-06-07</td>\n      <td>411.368114</td>\n    </tr>\n    <tr>\n      <th>2</th>\n      <td>germany</td>\n      <td>2020-06-07</td>\n      <td>11.756000</td>\n    </tr>\n    <tr>\n      <th>3</th>\n      <td>italy</td>\n      <td>2020-06-07</td>\n      <td>8.456000</td>\n    </tr>\n    <tr>\n      <th>4</th>\n      <td>netherlands</td>\n      <td>2020-06-07</td>\n      <td>88.061636</td>\n    </tr>\n  </tbody>\n</table>\n</div>",
      "text/plain": "       country last_checked    estimate\n0      austria   2020-06-07  694.588101\n1      belgium   2020-06-07  411.368114\n2      germany   2020-06-07   11.756000\n3        italy   2020-06-07    8.456000\n4  netherlands   2020-06-07   88.061636"
     },
     "execution_count": 10,
     "metadata": {},
     "output_type": "execute_result"
    }
   ],
   "source": [
    "\n",
    "df"
   ],
   "metadata": {
    "collapsed": false,
    "pycharm": {
     "name": "#%%\n"
    }
   }
  },
  {
   "cell_type": "code",
   "execution_count": 11,
   "outputs": [
    {
     "data": {
      "text/html": "<div>\n<style scoped>\n    .dataframe tbody tr th:only-of-type {\n        vertical-align: middle;\n    }\n\n    .dataframe tbody tr th {\n        vertical-align: top;\n    }\n\n    .dataframe thead th {\n        text-align: right;\n    }\n</style>\n<table border=\"1\" class=\"dataframe\">\n  <thead>\n    <tr style=\"text-align: right;\">\n      <th></th>\n      <th>last_checked</th>\n      <th>estimate</th>\n    </tr>\n    <tr>\n      <th>country</th>\n      <th></th>\n      <th></th>\n    </tr>\n  </thead>\n  <tbody>\n    <tr>\n      <th>austria</th>\n      <td>2020-06-07</td>\n      <td>694.588101</td>\n    </tr>\n    <tr>\n      <th>belgium</th>\n      <td>2020-06-07</td>\n      <td>411.368114</td>\n    </tr>\n    <tr>\n      <th>germany</th>\n      <td>2020-06-07</td>\n      <td>11.756000</td>\n    </tr>\n    <tr>\n      <th>italy</th>\n      <td>2020-06-07</td>\n      <td>8.456000</td>\n    </tr>\n    <tr>\n      <th>netherlands</th>\n      <td>2020-06-07</td>\n      <td>88.061636</td>\n    </tr>\n  </tbody>\n</table>\n</div>",
      "text/plain": "            last_checked    estimate\ncountry                             \naustria       2020-06-07  694.588101\nbelgium       2020-06-07  411.368114\ngermany       2020-06-07   11.756000\nitaly         2020-06-07    8.456000\nnetherlands   2020-06-07   88.061636"
     },
     "execution_count": 11,
     "metadata": {},
     "output_type": "execute_result"
    }
   ],
   "source": [
    "df.set_index('country')"
   ],
   "metadata": {
    "collapsed": false,
    "pycharm": {
     "name": "#%%\n"
    }
   }
  },
  {
   "cell_type": "code",
   "execution_count": 12,
   "outputs": [
    {
     "data": {
      "text/plain": "PosixPath('/home/tejsukhatme/GSOC2020/applications/gsoc_application_projects/2020/influenza/web/influenza_estimator/data/current.csv')"
     },
     "execution_count": 12,
     "metadata": {},
     "output_type": "execute_result"
    }
   ],
   "source": [
    "data_path = Path.cwd() / 'data' / 'current.csv'\n",
    "data_path"
   ],
   "metadata": {
    "collapsed": false,
    "pycharm": {
     "name": "#%%\n"
    }
   }
  },
  {
   "cell_type": "code",
   "execution_count": 13,
   "outputs": [],
   "source": [
    "df.to_csv(data_path)"
   ],
   "metadata": {
    "collapsed": false,
    "pycharm": {
     "name": "#%%\n"
    }
   }
  },
  {
   "cell_type": "code",
   "execution_count": 15,
   "outputs": [],
   "source": [
    "df = {}\n",
    "data_path = Path.cwd() / 'data'\n",
    "COUNTRIES = ['austria', 'belgium', 'germany', 'italy', 'netherlands']\n",
    "for country in COUNTRIES:\n",
    "    file_path = data_path / (country + '.csv')\n",
    "    df[country] = pd.read_csv(file_path)\n"
   ],
   "metadata": {
    "collapsed": false,
    "pycharm": {
     "name": "#%%\n"
    }
   }
  },
  {
   "cell_type": "code",
   "execution_count": 16,
   "outputs": [
    {
     "data": {
      "text/plain": "array(['Acetaldehydsyndrom', 'Achsensymptom', 'Adeno-assoziierte_Viren',\n       'Adenovirusimpfstoff', 'Adipsie', 'Adynamie', 'Aggravation',\n       'Akantholyse', 'Akroosteolyse', 'Akrozyanose', 'Akute_Bronchitis',\n       'Akute_Mittelohrentzündung', 'Akute_eitrige_Thyreoiditis',\n       'Alkalose', 'Alkoholintoleranz', 'Allgemeininfektion',\n       'Alterssyndrom', 'Amnioninfektionssyndrom', 'Anorexie',\n       'Anthraximpfstoff', 'Anthroponose',\n       'Anti-NMDA-Rezeptor-Enzephalitis', 'Anämie',\n       'Arjenyattah-Epidemie', 'Asthenie', 'Attische_Seuche', 'Azidose',\n       'B-Symptomatik', 'Bagatellisierung', 'Bazex-Syndrom', 'Bendopnoe',\n       'Bilirubinurie', 'Biologische_Schutzstufe',\n       'Biologische_Sicherheitsstufe', 'Blutvergiftung', 'Bradykardie',\n       'Bürstenschädel', 'Cafeteria-roenbergensis-Virus',\n       'Cholera-Aufstand_in_Königsberg',\n       'Choleraepidemie_in_Haiti_ab_2010', 'Choleraepidemie_von_1892',\n       'Choleraimpfstoff', 'Chronische_Schleimhauteiterung',\n       'Chronisches_Schmerzsyndrom', 'Couperose', 'Cyprianische_Pest',\n       'Cytomegalievirusimpfstoff', 'DTP-Impfstoff', 'Dakryozystitis',\n       'Dehnungsstreifen', 'Dengue-Virus-Impfstoff',\n       'Diphtherieepidemie_in_Nome', 'Diphtherieimpfstoff',\n       'Dissimulation', 'Druckpuls', 'Dyschylie', 'Ebola-Impfstoff',\n       'Ebolafieber-Epidemie_2014',\n       'Ebolafieber-Epidemie_in_der_Demokratischen_Republik_Kongo_2014',\n       'Elektrolytstörung', 'Emerging_Infectious_Disease', 'Endokarditis',\n       'Englischer_Schweiß', 'Enzephalitis', 'Enzootie',\n       'Epstein-Barr-Virus-Impfstoff', 'Erkältung', 'Erythrodiapedese',\n       'Exsikkose', 'FSME-Impfstoff', 'Facies_leonina', 'Fieber',\n       'Fieber_unklarer_Genese', 'Fieberdelirium', 'Fischwirbel',\n       'Fleckfieberimpfstoff', 'Furunkel', 'Gebrechlichkeit',\n       'Gelbfieberimpfstoff', 'Geonose', 'Gliederschmerz', 'Glucosurie',\n       'Gordon-Syndrom', 'Grey-Turner-Zeichen', 'Große_Pest_von_London',\n       'HIV-Impfstoff', 'HPV-Impfstoff', 'HUS-Epidemie_2011',\n       'Haar-Heterochromie', 'Haffkrankheit', 'Hakenwurmimpfstoff',\n       'Hamman-Zeichen', 'Harnwegsinfekt', 'Hepatitis-A-Impfstoff',\n       'Hepatitis-B-Impfstoff', 'Hepatosplenomegalie', 'Herdenzephalitis',\n       'Hexavalenter_Impfstoff', 'Hexenschuss', 'Hiatus_leucaemicus',\n       'Hordeolum', 'Horner-Syndrom', 'Hospitalfieber', 'Hypalbuminämie',\n       'Hyperhydratation', 'Hyperkaliämie', 'Hypernatriämie',\n       'Hyperorexie', 'Hyperviskositätssyndrom', 'Hypochromie',\n       'Hypokaliämie', 'Hypokalzämie', 'Hyponatriämie', 'Hämatozele',\n       'Hämaturie', 'Hämoglobinurie', 'Hämolyse', 'Impfstoff',\n       'Infektion', 'Infektionskrankheit', 'Influenzaimpfstoff',\n       'Initialsymptom', 'Intelligenzminderung', 'Intercostalneuralgie',\n       'International_Society_of_Chemotherapy', 'Ischämie',\n       'Isomorpher_Reizeffekt', 'Isosthenurie', 'Italienisches_Fieber',\n       'Japanische-Enzephalitis-Impfstoff', 'Jarisch-Herxheimer-Reaktion',\n       'Juckreiz', 'Kachexie', 'Kahnbauch', 'Kalzinose', 'Kardiomegalie',\n       'Kehr-Zeichen', 'Keratolyse', 'Ketonurie', 'Kolpitis',\n       'Konjugierter_Impfstoff', 'Konjunktivitis', 'Kontaktblutung',\n       'Konvergenzexzess', 'Koordinationsstörungen', 'Kopfschmerz',\n       'Koprophagie', 'Krampfanfall', 'Krebsimpfstoff', 'Krepitation',\n       'Lackzunge', 'Lasègue-Zeichen', 'Lebendimpfstoff',\n       'Legionellose-Ausbruch_in_Jülich_2014',\n       'Legionellose-Ausbruch_in_Warstein_2013', 'Leitsymptom',\n       'Liebermeister-Regel', 'Lipomastie',\n       'Liste_von_Epidemien_und_Pandemien', 'Lokalinfektion',\n       'Lungenentzündung', 'Lymphopenie', 'MMR-Impfstoff',\n       'Madonnenfinger', 'Malariaimpfstoff', 'Marfan-Zeichen',\n       'Markerimpfstoff', 'Marschhämoglobinurie', 'Masernimpfstoff',\n       'Maskengesicht', 'Megalokornea', 'Metabolische_Alkalose',\n       'Metabolische_Azidose', 'Mikroalbuminurie',\n       'Milzbrand-Unfall_in_Swerdlowsk', 'Mittelmeerkrankheit',\n       'Modified-Vaccinia-Ankara-Virus', 'Mumpsimpfstoff',\n       'Muskelhypotonie',\n       'Muskelkrampf-Muskelschmerz-und-Faszikulationen-Syndrom',\n       'Muskelschmerz', 'Myalgie', 'Myoglobinurie', 'Nachtschweiß',\n       'Nageldystrophie', 'Nagelhypoplasie', 'Nervosität',\n       'Neugeborenensepsis', 'Nikolski-Phänomen', 'Nonnensausen',\n       'Nykturie', 'Ohrspeicheldrüsenerkrankung', 'Organomegalie',\n       'Osler-Knötchen', 'Osmotische_Diurese', 'Osteosklerose',\n       'Oststaaten-Polio-Epidemie_von_1916',\n       'Otter-Valley-Polio-Epidemie', 'Palmarerythem', 'Panzytopenie',\n       'Paraneoplastisches_Syndrom', 'Parotitis', 'Pel-Ebstein-Fieber',\n       'Peptidimpfstoff', 'Perifokalödem', 'Pertussisimpfstoff',\n       'Pestimpfstoff', 'Picardsches_Schweißfieber', 'Plazentitis',\n       'Pleuraerguss', 'Pneumococcusimpfstoff', 'Pneumonie',\n       'Pockenepidemie_an_der_Pazifikküste_Nordamerikas_1862',\n       'Pockenepidemie_an_der_Pazifikküste_Nordamerikas_ab_1775',\n       'Pockenepidemie_in_Australien_1789',\n       'Pockenepidemie_in_Boston_1721', 'Pockenimpfstoff',\n       'Polioimpfstoff', 'Polydipsie', 'Polyurie',\n       'Portosystemischer_Shunt', 'Postenzephalitisches_Syndrom',\n       'Potato-Spindle-Tuber-Viroid', 'Proteinurie', 'Protothekose',\n       'Präödem', 'Pseudoparese', 'Pulsdefizit', 'Pyogen', 'Pyämie',\n       'Rachitischer_Rosenkranz', 'Rhinosinusitis', 'Rieder-Formen',\n       'Risus_sardonicus', 'Roseole', 'Rotavirusimpfstoff',\n       'Rötelnimpfstoff', 'Rückenschmerzen', 'Rückenschonhaltung',\n       'SARS-assoziiertes_Coronavirus', 'Saegesser-Zeichen',\n       'Scheidenausfluss', 'Schistosomiasisimpfstoff', 'Schlafstörung',\n       'Schmerz', 'Schmetterlingserythem', 'Schonhaltung',\n       'Schwangerschaftsassoziierte_Osteoporose', 'Schüttelfrost',\n       'Seitenstiche', 'Septikämie', 'Sicca-Syndrom', 'Simulant',\n       'Spermatitis', 'Sphärozytose', 'Sporotrichose',\n       'Stieda-Pellegrini-Köhler-Schatten', 'Symptomatologie',\n       'Säbelscheidentibia', 'Tachykardie', 'Talimogen_laherparepvec',\n       'Tanganjika-Lachepidemie', 'Tetanie', 'Tetanusimpfstoff',\n       'Tollwutimpfstoff', 'Totimpfstoff', 'Toxoidimpfstoff', 'Trachom',\n       'Tropenkrankheit', 'Trypanosomiasisimpfstoff',\n       'Tränendrüsenentzündung', 'Tumoranämie', 'Tumorkachexie',\n       'Typhusepidemie_in_Gelsenkirchen_1901',\n       'Typhusepidemie_von_Lebach', 'Typhusimpfstoff', 'Ulnardeviation',\n       'Untereinheitenimpfstoff', 'Untergewicht',\n       'Unwohlsein_und_Ermüdung', 'Vaginalstein', 'Varicellaimpfstoff',\n       'Vasovagale_Synkope', 'Vergessen', 'Verspannung', 'Virophagen',\n       'Virusinfektion', 'Viszeromegalie', 'Vollmondgesicht',\n       'Wachstumsschmerzen', 'Wehau-Krankheit', 'Winterbottom-Zeichen',\n       'Zahnschmerzen', 'Zervizitis', 'Zikavirus-Epidemie_2015/2016',\n       'Zohlen-Zeichen', 'Zwerchfellhochstand', 'Zyanose', 'cases',\n       'incidence', 'Ödem', 'Übelkeit', 'date', 'estimate', 'week'],\n      dtype=object)"
     },
     "execution_count": 16,
     "metadata": {},
     "output_type": "execute_result"
    }
   ],
   "source": [
    "df['austria'].columns.values"
   ],
   "metadata": {
    "collapsed": false,
    "pycharm": {
     "name": "#%%\n"
    }
   }
  },
  {
   "cell_type": "code",
   "execution_count": 17,
   "outputs": [
    {
     "data": {
      "text/plain": "0      NaN\n1      NaN\n2      NaN\n3      NaN\n4      NaN\n5      NaN\n6      NaN\n7      NaN\n8      NaN\n9      NaN\n10     NaN\n11     NaN\n12     NaN\n13     NaN\n14     NaN\n15     NaN\n16     NaN\n17     NaN\n18     NaN\n19     NaN\n20     NaN\n21     NaN\n22     NaN\n23     NaN\n24     NaN\n25     NaN\n26     NaN\n27     NaN\n28     NaN\n29     NaN\n      ... \n126    NaN\n127    NaN\n128    NaN\n129    NaN\n130    NaN\n131    NaN\n132    NaN\n133    NaN\n134    NaN\n135    NaN\n136    NaN\n137    NaN\n138    NaN\n139    NaN\n140    NaN\n141    NaN\n142    NaN\n143    NaN\n144    NaN\n145    NaN\n146    NaN\n147    NaN\n148    NaN\n149    NaN\n150    NaN\n151    NaN\n152    NaN\n153    NaN\n154    NaN\n155    NaN\nName: week, Length: 156, dtype: object"
     },
     "execution_count": 17,
     "metadata": {},
     "output_type": "execute_result"
    }
   ],
   "source": [
    "df['austria']['week']"
   ],
   "metadata": {
    "collapsed": false,
    "pycharm": {
     "name": "#%%\n"
    }
   }
  },
  {
   "cell_type": "code",
   "execution_count": 21,
   "outputs": [],
   "source": [
    "from datetime import datetime\n",
    "\n",
    "for country in COUNTRIES:\n",
    "    week = []\n",
    "    if 'cases' in df[country].columns:\n",
    "        df[country] = df[country].drop(columns=['cases'])\n",
    "    if 'week' in df[country].columns:\n",
    "        df[country] = df[country].drop(columns=['week'])\n",
    "    for index, row in df[country].iterrows():\n",
    "        date = datetime.strptime(str(row['date']), '%Y-%m-%d')\n",
    "        week.append(str(date.isocalendar()[0])+'-'+str(date.isocalendar()[1]))\n",
    "    df[country]['week'] = week"
   ],
   "metadata": {
    "collapsed": false,
    "pycharm": {
     "name": "#%%\n"
    }
   }
  },
  {
   "cell_type": "code",
   "execution_count": 22,
   "outputs": [],
   "source": [
    "for country in COUNTRIES:\n",
    "    file_path = data_path / (country + '.csv')\n",
    "    df[country].to_csv(file_path)"
   ],
   "metadata": {
    "collapsed": false,
    "pycharm": {
     "name": "#%%\n"
    }
   }
  }
 ],
 "metadata": {
  "kernelspec": {
   "display_name": "Python 3",
   "language": "python",
   "name": "python3"
  },
  "language_info": {
   "codemirror_mode": {
    "name": "ipython",
    "version": 2
   },
   "file_extension": ".py",
   "mimetype": "text/x-python",
   "name": "python",
   "nbconvert_exporter": "python",
   "pygments_lexer": "ipython2",
   "version": "2.7.6"
  }
 },
 "nbformat": 4,
 "nbformat_minor": 0
}