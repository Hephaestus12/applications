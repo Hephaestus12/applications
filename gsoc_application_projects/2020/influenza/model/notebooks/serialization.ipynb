{
 "cells": [
  {
   "cell_type": "code",
   "execution_count": 3,
   "outputs": [],
   "source": [
    "import pandas as pd\n",
    "import shogun as sg\n",
    "from pathlib import Path\n",
    "import matplotlib.pyplot as plt\n",
    "plt.style.use(\"dark_background\")\n"
   ],
   "metadata": {
    "collapsed": false,
    "pycharm": {
     "name": "#%%\n"
    }
   }
  },
  {
   "cell_type": "code",
   "execution_count": 4,
   "outputs": [],
   "source": [
    "def load(path, is_labels=False):\n",
    "    if path.exists() and path.is_file():\n",
    "        df = pd.read_csv(path)\n",
    "        if is_labels:\n",
    "            df = pd.Series(df['incidence'])\n",
    "        return df.values"
   ],
   "metadata": {
    "collapsed": false,
    "pycharm": {
     "name": "#%%\n"
    }
   }
  },
  {
   "cell_type": "markdown",
   "source": [
    "Let's consider Italy."
   ],
   "metadata": {
    "collapsed": false
   }
  },
  {
   "cell_type": "code",
   "execution_count": 5,
   "outputs": [],
   "source": [
    "country = 'italy'"
   ],
   "metadata": {
    "collapsed": false,
    "pycharm": {
     "name": "#%%\n"
    }
   }
  },
  {
   "cell_type": "markdown",
   "source": [
    "getting all the datasets which we separated into the training and testing sets using test.py"
   ],
   "metadata": {
    "collapsed": false
   }
  },
  {
   "cell_type": "code",
   "execution_count": 6,
   "outputs": [],
   "source": [
    "path = Path.cwd()\n",
    "country = 'italy'\n",
    "processed_data_path = path.parent / 'data' / 'processed'"
   ],
   "metadata": {
    "collapsed": false,
    "pycharm": {
     "name": "#%%\n"
    }
   }
  },
  {
   "cell_type": "code",
   "execution_count": 7,
   "outputs": [
    {
     "name": "stdout",
     "output_type": "stream",
     "text": [
      "(405, 312)\n",
      "(312,)\n"
     ]
    }
   ],
   "source": [
    "\n",
    "x_train_file_path = processed_data_path / (\n",
    "                    country + '_features.csv')\n",
    "y_train_file_path = processed_data_path / (\n",
    "                        country + '_labels.csv')\n",
    "print(load(x_train_file_path).T.shape)\n",
    "print(load(y_train_file_path, is_labels=True).shape)"
   ],
   "metadata": {
    "collapsed": false,
    "pycharm": {
     "name": "#%%\n"
    }
   }
  },
  {
   "cell_type": "code",
   "execution_count": 8,
   "outputs": [
    {
     "data": {
      "text/plain": "PosixPath('/home/tejsukhatme/GSOC2020/applications/gsoc_application_projects/2020/influenza/model/data/test/italy/X_train.csv')"
     },
     "execution_count": 8,
     "metadata": {},
     "output_type": "execute_result"
    }
   ],
   "source": [
    "x_train_file_path = path.parent / 'data' / 'test'/ country / 'X_train.csv'\n",
    "x_train_file_path"
   ],
   "metadata": {
    "collapsed": false,
    "pycharm": {
     "name": "#%%\n"
    }
   }
  },
  {
   "cell_type": "code",
   "execution_count": 9,
   "outputs": [],
   "source": [
    "y_train_file_path = path.parent / 'data' / 'test'/ country / 'y_train.csv'"
   ],
   "metadata": {
    "collapsed": false,
    "pycharm": {
     "name": "#%%\n"
    }
   }
  },
  {
   "cell_type": "code",
   "execution_count": 10,
   "outputs": [],
   "source": [
    "features_train = sg.create_features(load(x_train_file_path).T)\n",
    "labels_train = sg.create_labels(\n",
    "                    load(y_train_file_path, is_labels=True))"
   ],
   "metadata": {
    "collapsed": false,
    "pycharm": {
     "name": "#%%\n"
    }
   }
  },
  {
   "cell_type": "code",
   "execution_count": 11,
   "outputs": [],
   "source": [
    "mean_rule = sg.create_combination_rule(\"MeanRule\")\n",
    "rand_forest = sg.create_machine(\"RandomForest\",\n",
    "                                            labels=labels_train,\n",
    "                                            num_bags=5, seed=1,\n",
    "                                            combination_rule=mean_rule)"
   ],
   "metadata": {
    "collapsed": false,
    "pycharm": {
     "name": "#%%\n"
    }
   }
  },
  {
   "cell_type": "code",
   "execution_count": null,
   "outputs": [],
   "source": [
    "rand_forest.train(features_train)"
   ],
   "metadata": {
    "collapsed": false,
    "pycharm": {
     "name": "#%%\n",
     "is_executing": true
    }
   }
  },
  {
   "cell_type": "markdown",
   "source": [],
   "metadata": {
    "collapsed": false,
    "pycharm": {
     "name": "#%% md\n"
    }
   }
  }
 ],
 "metadata": {
  "kernelspec": {
   "display_name": "Python 3",
   "language": "python",
   "name": "python3"
  },
  "language_info": {
   "codemirror_mode": {
    "name": "ipython",
    "version": 2
   },
   "file_extension": ".py",
   "mimetype": "text/x-python",
   "name": "python",
   "nbconvert_exporter": "python",
   "pygments_lexer": "ipython2",
   "version": "2.7.6"
  }
 },
 "nbformat": 4,
 "nbformat_minor": 0
}