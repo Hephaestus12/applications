{
 "cells": [
  {
   "cell_type": "markdown",
   "source": [
    "## Feature Engineering\n",
    "\n",
    "In this notebook, we shall work on the cleaned data set and try to prepare the features so that we can apply linear regression and other regression methods to them.\n",
    "\n",
    "We start of by importing some necessary packages."
   ],
   "metadata": {
    "collapsed": false,
    "pycharm": {
     "name": "#%% md\n"
    }
   }
  },
  {
   "cell_type": "code",
   "execution_count": 77,
   "metadata": {
    "collapsed": true
   },
   "outputs": [],
   "source": [
    "import numpy as np\n",
    "import pandas as pd\n",
    "%matplotlib inline\n",
    "import matplotlib.pyplot as plt\n",
    "plt.style.use('dark_background')\n",
    "import seaborn as sns\n",
    "color = sns.color_palette()\n",
    "sns.set_style('darkgrid')\n",
    "import warnings\n",
    "def ignore_warn(*args, **kwargs):\n",
    "    pass\n",
    "warnings.warn = ignore_warn\n",
    "\n",
    "from scipy import stats\n",
    "from scipy.stats import norm, skew\n",
    "\n",
    "from pathlib import Path\n",
    "from config import COUNTRIES"
   ]
  },
  {
   "cell_type": "markdown",
   "source": [
    "We set up our data paths. We had already cleaned the data using the `clean.py` file in the `src` module.\n",
    "\n",
    "These files are named after their countries and present in the `data/clean` directory."
   ],
   "metadata": {
    "collapsed": false,
    "pycharm": {
     "name": "#%% md\n"
    }
   }
  },
  {
   "cell_type": "code",
   "execution_count": 78,
   "outputs": [],
   "source": [
    "path = Path.cwd()\n",
    "cleaned_data_path = path.parent / 'data' / 'cleaned'"
   ],
   "metadata": {
    "collapsed": false,
    "pycharm": {
     "name": "#%%\n"
    }
   }
  },
  {
   "cell_type": "markdown",
   "source": [
    "### Making Dataframes from the .csv files\n",
    "\n",
    "`df`, here, contrary to conventional use, doesn't refer to the name of a pandas dataframe. Instead it is a dictionary of pandas dataframes. The key is the country name and the value is the cleaned dataframe corresponding to that country."
   ],
   "metadata": {
    "collapsed": false,
    "pycharm": {
     "name": "#%% md\n"
    }
   }
  },
  {
   "cell_type": "code",
   "execution_count": 79,
   "outputs": [],
   "source": [
    "df = {}\n",
    "for country in COUNTRIES :\n",
    "    file_path = cleaned_data_path / (country+'.csv')\n",
    "    df[country] = pd.read_csv(file_path)"
   ],
   "metadata": {
    "collapsed": false,
    "pycharm": {
     "name": "#%%\n"
    }
   }
  },
  {
   "cell_type": "markdown",
   "source": [
    "### Feature engineering for germany\n",
    "\n",
    "We will start off with feature engineering for just one country. If you notice, all the data in all the files are pretty similar. It is after all the same data, but for different countries. What we deduce from the dataframe for *Germany*, we shall implement for all other countries.\n",
    "\n",
    "Our very first step is to create some new features.\n",
    "\n",
    "What we start off with is find out which features have the maximumu correlation with our target variable that is incidence and then creating polynomial features from that feature.\n",
    "\n",
    "We get the correlation matrix."
   ],
   "metadata": {
    "collapsed": false,
    "pycharm": {
     "name": "#%% md\n"
    }
   }
  },
  {
   "cell_type": "code",
   "execution_count": 80,
   "outputs": [
    {
     "data": {
      "text/plain": "Saegesser-Zeichen      -0.017794\nAllgemeininfektion      0.273711\nIntelligenzminderung    0.389284\nHamman-Zeichen         -0.036524\nKeratolyse             -0.122371\nName: incidence, dtype: float64"
     },
     "execution_count": 80,
     "metadata": {},
     "output_type": "execute_result"
    }
   ],
   "source": [
    "corr = df['germany'].corr()\n",
    "corr['incidence'].sample(5)"
   ],
   "metadata": {
    "collapsed": false,
    "pycharm": {
     "name": "#%%\n"
    }
   }
  },
  {
   "cell_type": "markdown",
   "source": [
    "We now have to sort this list in descending order so as to get the features with the maximun correlation to incidence"
   ],
   "metadata": {
    "collapsed": false,
    "pycharm": {
     "name": "#%% md\n"
    }
   }
  },
  {
   "cell_type": "code",
   "execution_count": 81,
   "outputs": [
    {
     "data": {
      "text/plain": "incidence                      1.000000\nSchüttelfrost                  0.597271\nErkältung                      0.524202\nBradykardie                    0.509491\nFSME-Impfstoff                 0.447844\nPertussisimpfstoff             0.397472\nTotimpfstoff                   0.396158\nLebendimpfstoff                0.393729\nLungenentzündung               0.391089\nIntelligenzminderung           0.389284\nPotato-Spindle-Tuber-Viroid    0.374255\nName: incidence, dtype: float64"
     },
     "execution_count": 81,
     "metadata": {},
     "output_type": "execute_result"
    }
   ],
   "source": [
    "corr.sort_values(['incidence'], ascending = False, inplace = True)\n",
    "corr['incidence'].head(11)"
   ],
   "metadata": {
    "collapsed": false,
    "pycharm": {
     "name": "#%%\n"
    }
   }
  },
  {
   "cell_type": "markdown",
   "source": [
    "We will proceed with creating polynomials on the top 10 important features. Here we assume that importance of a feature is directly proportionality to its correlation to the target variable (incidence)\n",
    "\n",
    "\n",
    "We will be synthesizing three new features each. One is a square feature, one cubic and one square root feature, adding suffixes of `-s2` and `-s3` and `-sq`  respectively."
   ],
   "metadata": {
    "collapsed": false,
    "pycharm": {
     "name": "#%% md\n"
    }
   }
  },
  {
   "cell_type": "code",
   "execution_count": 82,
   "outputs": [],
   "source": [
    "count = 0\n",
    "for column, correlation in corr['incidence'].items() :\n",
    "    if count > 10:\n",
    "        break\n",
    "    if column == 'incidence' or column == 'week' or column == 'date':\n",
    "        continue\n",
    "    df['germany'][column+'-s2'] = df['germany'][column] ** 2\n",
    "    df['germany'][column+'-s3'] = df['germany'][column] ** 3\n",
    "    df['germany'][column+'-sq'] = np.sqrt(df['germany'][column])\n",
    "    count += 1"
   ],
   "metadata": {
    "collapsed": false,
    "pycharm": {
     "name": "#%%\n"
    }
   }
  },
  {
   "cell_type": "markdown",
   "source": [
    "Now We have all the features we need. However, all the features are skewed. For linear regression it is preferrable that all the features have a normal distribution. There are several ways to normalize.\n",
    "\n",
    "But before we do this, we have to find out which features are numerical features are which are categorical features as we can only apply these normal transforms to the numerical features."
   ],
   "metadata": {
    "collapsed": false,
    "pycharm": {
     "name": "#%% md\n"
    }
   }
  },
  {
   "cell_type": "code",
   "execution_count": 83,
   "outputs": [
    {
     "data": {
      "text/plain": "(332,)"
     },
     "execution_count": 83,
     "metadata": {},
     "output_type": "execute_result"
    }
   ],
   "source": [
    "numerical_features = df['germany'].select_dtypes(exclude = [\"object\"]).columns\n",
    "numerical_features = numerical_features.drop('incidence')\n",
    "numerical_features.shape"
   ],
   "metadata": {
    "collapsed": false,
    "pycharm": {
     "name": "#%%\n"
    }
   }
  },
  {
   "cell_type": "markdown",
   "source": [
    "Now we shall try to find out which of the features are actually skewed.\n",
    "We gotta find out the skewness of each of the features."
   ],
   "metadata": {
    "collapsed": false,
    "pycharm": {
     "name": "#%% md\n"
    }
   }
  },
  {
   "cell_type": "code",
   "execution_count": 84,
   "outputs": [
    {
     "data": {
      "text/plain": "count    332.000000\nmean       2.084384\nstd        2.990377\nmin       -1.094021\n25%        0.311920\n50%        1.301025\n75%        2.227899\nmax       17.440445\ndtype: float64"
     },
     "execution_count": 84,
     "metadata": {},
     "output_type": "execute_result"
    }
   ],
   "source": [
    "skewness = df['germany'][numerical_features].apply(lambda x: skew(x))\n",
    "skewness.describe()"
   ],
   "metadata": {
    "collapsed": false,
    "pycharm": {
     "name": "#%%\n"
    }
   }
  },
  {
   "cell_type": "markdown",
   "source": [
    "We will only try to apply normalization to those features where the skewness is more than 0.5 or less than -0.5."
   ],
   "metadata": {
    "collapsed": false,
    "pycharm": {
     "name": "#%% md\n"
    }
   }
  },
  {
   "cell_type": "code",
   "execution_count": 85,
   "outputs": [
    {
     "name": "stdout",
     "output_type": "stream",
     "text": [
      "246 skewed numerical features to transform\n"
     ]
    }
   ],
   "source": [
    "skewness = skewness[abs(skewness) > 0.5]\n",
    "print(str(skewness.shape[0]) + \" skewed numerical features to transform\")"
   ],
   "metadata": {
    "collapsed": false,
    "pycharm": {
     "name": "#%%\n"
    }
   }
  },
  {
   "cell_type": "code",
   "execution_count": 86,
   "outputs": [
    {
     "data": {
      "text/plain": "Index(['Achsensymptom', 'Adenovirusimpfstoff', 'Adipsie', 'Aggravation',\n       'Akantholyse', 'Akroosteolyse', 'Akute_Bronchitis',\n       'Akute_Mittelohrentzündung', 'Akute_eitrige_Thyreoiditis', 'Alkalose',\n       ...\n       'Lungenentzündung-s3', 'Lungenentzündung-sq', 'Intelligenzminderung-s2',\n       'Intelligenzminderung-s3', 'Potato-Spindle-Tuber-Viroid-s2',\n       'Potato-Spindle-Tuber-Viroid-s3', 'Potato-Spindle-Tuber-Viroid-sq',\n       'Akute_Mittelohrentzündung-s2', 'Akute_Mittelohrentzündung-s3',\n       'Akute_Mittelohrentzündung-sq'],\n      dtype='object', length=246)"
     },
     "execution_count": 86,
     "metadata": {},
     "output_type": "execute_result"
    }
   ],
   "source": [
    "skewed_features = skewness.index\n",
    "skewed_features"
   ],
   "metadata": {
    "collapsed": false,
    "pycharm": {
     "name": "#%%\n"
    }
   }
  },
  {
   "cell_type": "markdown",
   "source": [
    "We cannot apply the box-cox transformation here as it requires all values to be positive. However, as we know, several features which have a value of zero.\n",
    "\n",
    "As a result, we shall try to use the Leo Johnson transform.\n",
    "For non-negative values, the leo-johnson transform is defined as the box-cox transform after adding one to the features.\n",
    "\n",
    "One important thing to keep in mind here is that we have to store the respective lambdas for each of the features.\n",
    "For this we make a dictionary called lmbda."
   ],
   "metadata": {
    "collapsed": false,
    "pycharm": {
     "name": "#%% md\n"
    }
   }
  },
  {
   "cell_type": "code",
   "execution_count": 87,
   "outputs": [],
   "source": [
    "lmbda = {'austria': {}, 'belgium': {}, 'germany': {}, 'italy': {}, 'netherlands': {}}\n",
    "for feature in skewed_features:\n",
    "    feature_data = df['germany'][feature] + 1\n",
    "    feature_data, lmbda['germany'][feature] = stats.boxcox(feature_data)\n",
    "    feature_data = pd.Series(feature_data)\n",
    "    df['germany'][feature] = feature_data"
   ],
   "metadata": {
    "collapsed": false,
    "pycharm": {
     "name": "#%%\n"
    }
   }
  },
  {
   "cell_type": "markdown",
   "source": [
    "Lets check for the skewness of features once we have applied this transformation."
   ],
   "metadata": {
    "collapsed": false,
    "pycharm": {
     "name": "#%% md\n"
    }
   }
  },
  {
   "cell_type": "code",
   "execution_count": 88,
   "outputs": [
    {
     "data": {
      "text/plain": "count    332.000000\nmean       0.326353\nstd        0.457394\nmin       -0.547741\n25%       -0.016284\n50%        0.292893\n75%        0.666706\nmax        1.934249\ndtype: float64"
     },
     "execution_count": 88,
     "metadata": {},
     "output_type": "execute_result"
    }
   ],
   "source": [
    "skewness = df['germany'][numerical_features].apply(lambda x: skew(x))\n",
    "skewness.describe()"
   ],
   "metadata": {
    "collapsed": false,
    "pycharm": {
     "name": "#%%\n"
    }
   }
  },
  {
   "cell_type": "markdown",
   "source": [
    "As we can see there has been quite a considerable improvement in the skewness values for each of the features due to the Leo-Johnson transform.\n",
    "\n",
    "Let's see what the means and standard deviations of all the values are like now:"
   ],
   "metadata": {
    "collapsed": false,
    "pycharm": {
     "name": "#%% md\n"
    }
   }
  },
  {
   "cell_type": "code",
   "execution_count": 89,
   "outputs": [
    {
     "data": {
      "text/plain": "        incidence  Acetaldehydsyndrom  Achsensymptom  Adeno-assoziierte_Viren  \\\ncount  312.000000          312.000000     312.000000               312.000000   \nmean     3.665609           81.647436       0.209273               123.201923   \nstd      7.651979           59.323822       0.280753                43.955191   \nmin      0.000000            0.000000       0.000000                 0.000000   \n25%      0.040000           27.750000       0.000000               100.000000   \n50%      0.475000           84.000000       0.000000               119.000000   \n75%      3.467500          116.250000       0.559003               143.250000   \nmax     57.310000          252.000000       0.691035               289.000000   \n\n       Adenovirusimpfstoff     Adipsie    Adynamie  Aggravation  Akantholyse  \\\ncount           312.000000  312.000000  312.000000   312.000000   312.000000   \nmean              0.285188   10.354945  226.548077    33.756336    38.949545   \nstd               0.408507    3.672148  111.740099     8.771337    12.896814   \nmin               0.000000    0.000000    0.000000     0.000000     0.000000   \n25%               0.000000    7.998256  163.000000    31.419113    32.343446   \n50%               0.000000    9.622394  210.500000    34.703199    37.336250   \n75%               0.847109   13.331654  289.000000    37.000390    45.342981   \nmax               0.947107   18.676087  536.000000   122.857072    88.016196   \n\n       Akroosteolyse              ...               Lungenentzündung-sq  \\\ncount     312.000000              ...                        312.000000   \nmean        0.406952              ...                          1.117588   \nstd         0.594587              ...                          1.014515   \nmin         0.000000              ...                          0.000000   \n25%         0.000000              ...                          0.000000   \n50%         0.000000              ...                          1.176112   \n75%         1.217957              ...                          2.019986   \nmax         1.390181              ...                          2.636966   \n\n       Intelligenzminderung-s2  Intelligenzminderung-s3  \\\ncount               312.000000               312.000000   \nmean                187.602816               281.410881   \nstd                  67.499381               101.252519   \nmin                   0.000000                 0.000000   \n25%                 141.463632               212.199931   \n50%                 184.334229               276.507845   \n75%                 221.168224               331.760626   \nmax                 328.747906               493.135679   \n\n       Intelligenzminderung-sq  Potato-Spindle-Tuber-Viroid-s2  \\\ncount               312.000000                      312.000000   \nmean                 30.451706                        5.002376   \nstd                   9.545524                        2.577117   \nmin                   0.000000                        0.000000   \n25%                  24.315618                        4.345779   \n50%                  30.315008                        5.051541   \n75%                  35.305635                        5.706996   \nmax                  49.254441                       11.488337   \n\n       Potato-Spindle-Tuber-Viroid-s3  Potato-Spindle-Tuber-Viroid-sq  \\\ncount                      312.000000                      312.000000   \nmean                         7.491898                        1.685736   \nstd                          3.865136                        0.855980   \nmin                          0.000000                        0.000000   \n25%                          6.503651                        1.515585   \n50%                          7.568143                        1.694617   \n75%                          8.553240                        1.873077   \nmax                         17.212264                        4.009091   \n\n       Akute_Mittelohrentzündung-s2  Akute_Mittelohrentzündung-s3  \\\ncount                    312.000000                    312.000000   \nmean                       2.430851                      3.607043   \nstd                        2.630680                      3.938547   \nmin                        0.000000                      0.000000   \n25%                        0.000000                      0.000000   \n50%                        1.971210                      2.865109   \n75%                        5.288349                      7.904089   \nmax                        6.514805                      9.723606   \n\n       Akute_Mittelohrentzündung-sq  \ncount                    312.000000  \nmean                       0.779711  \nstd                        0.780824  \nmin                        0.000000  \n25%                        0.000000  \n50%                        0.818509  \n75%                        1.545030  \nmax                        1.966863  \n\n[8 rows x 333 columns]",
      "text/html": "<div>\n<style scoped>\n    .dataframe tbody tr th:only-of-type {\n        vertical-align: middle;\n    }\n\n    .dataframe tbody tr th {\n        vertical-align: top;\n    }\n\n    .dataframe thead th {\n        text-align: right;\n    }\n</style>\n<table border=\"1\" class=\"dataframe\">\n  <thead>\n    <tr style=\"text-align: right;\">\n      <th></th>\n      <th>incidence</th>\n      <th>Acetaldehydsyndrom</th>\n      <th>Achsensymptom</th>\n      <th>Adeno-assoziierte_Viren</th>\n      <th>Adenovirusimpfstoff</th>\n      <th>Adipsie</th>\n      <th>Adynamie</th>\n      <th>Aggravation</th>\n      <th>Akantholyse</th>\n      <th>Akroosteolyse</th>\n      <th>...</th>\n      <th>Lungenentzündung-sq</th>\n      <th>Intelligenzminderung-s2</th>\n      <th>Intelligenzminderung-s3</th>\n      <th>Intelligenzminderung-sq</th>\n      <th>Potato-Spindle-Tuber-Viroid-s2</th>\n      <th>Potato-Spindle-Tuber-Viroid-s3</th>\n      <th>Potato-Spindle-Tuber-Viroid-sq</th>\n      <th>Akute_Mittelohrentzündung-s2</th>\n      <th>Akute_Mittelohrentzündung-s3</th>\n      <th>Akute_Mittelohrentzündung-sq</th>\n    </tr>\n  </thead>\n  <tbody>\n    <tr>\n      <th>count</th>\n      <td>312.000000</td>\n      <td>312.000000</td>\n      <td>312.000000</td>\n      <td>312.000000</td>\n      <td>312.000000</td>\n      <td>312.000000</td>\n      <td>312.000000</td>\n      <td>312.000000</td>\n      <td>312.000000</td>\n      <td>312.000000</td>\n      <td>...</td>\n      <td>312.000000</td>\n      <td>312.000000</td>\n      <td>312.000000</td>\n      <td>312.000000</td>\n      <td>312.000000</td>\n      <td>312.000000</td>\n      <td>312.000000</td>\n      <td>312.000000</td>\n      <td>312.000000</td>\n      <td>312.000000</td>\n    </tr>\n    <tr>\n      <th>mean</th>\n      <td>3.665609</td>\n      <td>81.647436</td>\n      <td>0.209273</td>\n      <td>123.201923</td>\n      <td>0.285188</td>\n      <td>10.354945</td>\n      <td>226.548077</td>\n      <td>33.756336</td>\n      <td>38.949545</td>\n      <td>0.406952</td>\n      <td>...</td>\n      <td>1.117588</td>\n      <td>187.602816</td>\n      <td>281.410881</td>\n      <td>30.451706</td>\n      <td>5.002376</td>\n      <td>7.491898</td>\n      <td>1.685736</td>\n      <td>2.430851</td>\n      <td>3.607043</td>\n      <td>0.779711</td>\n    </tr>\n    <tr>\n      <th>std</th>\n      <td>7.651979</td>\n      <td>59.323822</td>\n      <td>0.280753</td>\n      <td>43.955191</td>\n      <td>0.408507</td>\n      <td>3.672148</td>\n      <td>111.740099</td>\n      <td>8.771337</td>\n      <td>12.896814</td>\n      <td>0.594587</td>\n      <td>...</td>\n      <td>1.014515</td>\n      <td>67.499381</td>\n      <td>101.252519</td>\n      <td>9.545524</td>\n      <td>2.577117</td>\n      <td>3.865136</td>\n      <td>0.855980</td>\n      <td>2.630680</td>\n      <td>3.938547</td>\n      <td>0.780824</td>\n    </tr>\n    <tr>\n      <th>min</th>\n      <td>0.000000</td>\n      <td>0.000000</td>\n      <td>0.000000</td>\n      <td>0.000000</td>\n      <td>0.000000</td>\n      <td>0.000000</td>\n      <td>0.000000</td>\n      <td>0.000000</td>\n      <td>0.000000</td>\n      <td>0.000000</td>\n      <td>...</td>\n      <td>0.000000</td>\n      <td>0.000000</td>\n      <td>0.000000</td>\n      <td>0.000000</td>\n      <td>0.000000</td>\n      <td>0.000000</td>\n      <td>0.000000</td>\n      <td>0.000000</td>\n      <td>0.000000</td>\n      <td>0.000000</td>\n    </tr>\n    <tr>\n      <th>25%</th>\n      <td>0.040000</td>\n      <td>27.750000</td>\n      <td>0.000000</td>\n      <td>100.000000</td>\n      <td>0.000000</td>\n      <td>7.998256</td>\n      <td>163.000000</td>\n      <td>31.419113</td>\n      <td>32.343446</td>\n      <td>0.000000</td>\n      <td>...</td>\n      <td>0.000000</td>\n      <td>141.463632</td>\n      <td>212.199931</td>\n      <td>24.315618</td>\n      <td>4.345779</td>\n      <td>6.503651</td>\n      <td>1.515585</td>\n      <td>0.000000</td>\n      <td>0.000000</td>\n      <td>0.000000</td>\n    </tr>\n    <tr>\n      <th>50%</th>\n      <td>0.475000</td>\n      <td>84.000000</td>\n      <td>0.000000</td>\n      <td>119.000000</td>\n      <td>0.000000</td>\n      <td>9.622394</td>\n      <td>210.500000</td>\n      <td>34.703199</td>\n      <td>37.336250</td>\n      <td>0.000000</td>\n      <td>...</td>\n      <td>1.176112</td>\n      <td>184.334229</td>\n      <td>276.507845</td>\n      <td>30.315008</td>\n      <td>5.051541</td>\n      <td>7.568143</td>\n      <td>1.694617</td>\n      <td>1.971210</td>\n      <td>2.865109</td>\n      <td>0.818509</td>\n    </tr>\n    <tr>\n      <th>75%</th>\n      <td>3.467500</td>\n      <td>116.250000</td>\n      <td>0.559003</td>\n      <td>143.250000</td>\n      <td>0.847109</td>\n      <td>13.331654</td>\n      <td>289.000000</td>\n      <td>37.000390</td>\n      <td>45.342981</td>\n      <td>1.217957</td>\n      <td>...</td>\n      <td>2.019986</td>\n      <td>221.168224</td>\n      <td>331.760626</td>\n      <td>35.305635</td>\n      <td>5.706996</td>\n      <td>8.553240</td>\n      <td>1.873077</td>\n      <td>5.288349</td>\n      <td>7.904089</td>\n      <td>1.545030</td>\n    </tr>\n    <tr>\n      <th>max</th>\n      <td>57.310000</td>\n      <td>252.000000</td>\n      <td>0.691035</td>\n      <td>289.000000</td>\n      <td>0.947107</td>\n      <td>18.676087</td>\n      <td>536.000000</td>\n      <td>122.857072</td>\n      <td>88.016196</td>\n      <td>1.390181</td>\n      <td>...</td>\n      <td>2.636966</td>\n      <td>328.747906</td>\n      <td>493.135679</td>\n      <td>49.254441</td>\n      <td>11.488337</td>\n      <td>17.212264</td>\n      <td>4.009091</td>\n      <td>6.514805</td>\n      <td>9.723606</td>\n      <td>1.966863</td>\n    </tr>\n  </tbody>\n</table>\n<p>8 rows × 333 columns</p>\n</div>"
     },
     "execution_count": 89,
     "metadata": {},
     "output_type": "execute_result"
    }
   ],
   "source": [
    "df['germany'].describe()"
   ],
   "metadata": {
    "collapsed": false,
    "pycharm": {
     "name": "#%%\n"
    }
   }
  },
  {
   "cell_type": "markdown",
   "source": [
    "Although the skewness has been greatlyreduced, as we can see, the values of mean and standard deviations are very scattered. As a result, some features will be given a greater importance as compared to others. As a result what we have to do is scale the features such that the mean becomes 0 and the standard deviation becomes 1.\n",
    "\n",
    "This is called the standard normal form."
   ],
   "metadata": {
    "collapsed": false,
    "pycharm": {
     "name": "#%% md\n"
    }
   }
  },
  {
   "cell_type": "code",
   "execution_count": 90,
   "outputs": [],
   "source": [
    "for feature in numerical_features:\n",
    "    feature_data = df['germany'][feature]\n",
    "    feature_data -= feature_data.mean()\n",
    "    feature_data /= feature_data.std()\n",
    "    df['germany'][feature] = feature_data"
   ],
   "metadata": {
    "collapsed": false,
    "pycharm": {
     "name": "#%%\n"
    }
   }
  },
  {
   "cell_type": "code",
   "execution_count": 91,
   "outputs": [
    {
     "data": {
      "text/plain": "        incidence  Acetaldehydsyndrom  Achsensymptom  Adeno-assoziierte_Viren  \\\ncount  312.000000          312.000000     312.000000             3.120000e+02   \nmean     3.665609            0.000000       0.000000            -6.832142e-17   \nstd      7.651979            1.000000       1.000000             1.000000e+00   \nmin      0.000000           -1.376301      -0.745399            -2.802898e+00   \n25%      0.040000           -0.908529      -0.745399            -5.278540e-01   \n50%      0.475000            0.039656      -0.745399            -9.559561e-02   \n75%      3.467500            0.583283       1.245687             4.561026e-01   \nmax     57.310000            2.871571       1.715966             3.771979e+00   \n\n       Adenovirusimpfstoff       Adipsie      Adynamie   Aggravation  \\\ncount         3.120000e+02  3.120000e+02  3.120000e+02  3.120000e+02   \nmean         -4.554761e-17 -5.465713e-16 -9.109522e-17 -3.074464e-16   \nstd           1.000000e+00  1.000000e+00  1.000000e+00  1.000000e+00   \nmin          -6.981225e-01 -2.819861e+00 -2.027455e+00 -3.848483e+00   \n25%          -6.981225e-01 -6.417739e-01 -5.687133e-01 -2.664615e-01   \n50%          -6.981225e-01 -1.994884e-01 -1.436197e-01  1.079496e-01   \n75%           1.375547e+00  8.106180e-01  5.589034e-01  3.698471e-01   \nmax           1.620336e+00  2.266015e+00  2.769390e+00  1.015817e+01   \n\n        Akantholyse  Akroosteolyse              ...               \\\ncount  3.120000e+02     312.000000              ...                \nmean   9.109522e-17       0.000000              ...                \nstd    1.000000e+00       1.000000              ...                \nmin   -3.020090e+00      -0.684428              ...                \n25%   -5.122272e-01      -0.684428              ...                \n50%   -1.250925e-01      -0.684428              ...                \n75%    4.957376e-01       1.363982              ...                \nmax    3.804556e+00       1.653636              ...                \n\n       Lungenentzündung-sq  Intelligenzminderung-s2  Intelligenzminderung-s3  \\\ncount         3.120000e+02             3.120000e+02             3.120000e+02   \nmean          9.109522e-17             3.188333e-16             5.921189e-16   \nstd           1.000000e+00             1.000000e+00             1.000000e+00   \nmin          -1.101598e+00            -2.779326e+00            -2.779298e+00   \n25%          -1.101598e+00            -6.835497e-01            -6.835479e-01   \n50%           5.768671e-02            -4.842395e-02            -4.842385e-02   \n75%           8.894872e-01             4.972699e-01             4.972691e-01   \nmax           1.497640e+00             2.091058e+00             2.091057e+00   \n\n       Intelligenzminderung-sq  Potato-Spindle-Tuber-Viroid-s2  \\\ncount             3.120000e+02                      312.000000   \nmean             -1.366428e-16                        0.000000   \nstd               1.000000e+00                        1.000000   \nmin              -3.190156e+00                       -1.941074   \n25%              -6.428236e-01                       -0.254780   \n50%              -1.432065e-02                        0.019078   \n75%               5.085031e-01                        0.273414   \nmax               1.969796e+00                        2.516750   \n\n       Potato-Spindle-Tuber-Viroid-s3  Potato-Spindle-Tuber-Viroid-sq  \\\ncount                    3.120000e+02                    3.120000e+02   \nmean                    -1.821904e-16                   -9.109522e-17   \nstd                      1.000000e+00                    1.000000e+00   \nmin                     -1.938327e+00                   -1.969363e+00   \n25%                     -2.556822e-01                   -1.987793e-01   \n50%                      1.972640e-02                    1.037559e-02   \n75%                      2.745937e-01                    2.188625e-01   \nmax                      2.514884e+00                    2.714263e+00   \n\n       Akute_Mittelohrentzündung-s2  Akute_Mittelohrentzündung-s3  \\\ncount                  3.120000e+02                  3.120000e+02   \nmean                   1.821904e-16                 -9.109522e-17   \nstd                    1.000000e+00                  1.000000e+00   \nmin                   -9.240388e-01                 -9.158308e-01   \n25%                   -9.240388e-01                 -9.158308e-01   \n50%                   -1.747231e-01                 -1.883776e-01   \n75%                    1.086220e+00                  1.091023e+00   \nmax                    1.552433e+00                  1.553000e+00   \n\n       Akute_Mittelohrentzündung-sq  \ncount                  3.120000e+02  \nmean                   1.366428e-16  \nstd                    1.000000e+00  \nmin                   -9.985752e-01  \n25%                   -9.985752e-01  \n50%                    4.968868e-02  \n75%                    9.801423e-01  \nmax                    1.520383e+00  \n\n[8 rows x 333 columns]",
      "text/html": "<div>\n<style scoped>\n    .dataframe tbody tr th:only-of-type {\n        vertical-align: middle;\n    }\n\n    .dataframe tbody tr th {\n        vertical-align: top;\n    }\n\n    .dataframe thead th {\n        text-align: right;\n    }\n</style>\n<table border=\"1\" class=\"dataframe\">\n  <thead>\n    <tr style=\"text-align: right;\">\n      <th></th>\n      <th>incidence</th>\n      <th>Acetaldehydsyndrom</th>\n      <th>Achsensymptom</th>\n      <th>Adeno-assoziierte_Viren</th>\n      <th>Adenovirusimpfstoff</th>\n      <th>Adipsie</th>\n      <th>Adynamie</th>\n      <th>Aggravation</th>\n      <th>Akantholyse</th>\n      <th>Akroosteolyse</th>\n      <th>...</th>\n      <th>Lungenentzündung-sq</th>\n      <th>Intelligenzminderung-s2</th>\n      <th>Intelligenzminderung-s3</th>\n      <th>Intelligenzminderung-sq</th>\n      <th>Potato-Spindle-Tuber-Viroid-s2</th>\n      <th>Potato-Spindle-Tuber-Viroid-s3</th>\n      <th>Potato-Spindle-Tuber-Viroid-sq</th>\n      <th>Akute_Mittelohrentzündung-s2</th>\n      <th>Akute_Mittelohrentzündung-s3</th>\n      <th>Akute_Mittelohrentzündung-sq</th>\n    </tr>\n  </thead>\n  <tbody>\n    <tr>\n      <th>count</th>\n      <td>312.000000</td>\n      <td>312.000000</td>\n      <td>312.000000</td>\n      <td>3.120000e+02</td>\n      <td>3.120000e+02</td>\n      <td>3.120000e+02</td>\n      <td>3.120000e+02</td>\n      <td>3.120000e+02</td>\n      <td>3.120000e+02</td>\n      <td>312.000000</td>\n      <td>...</td>\n      <td>3.120000e+02</td>\n      <td>3.120000e+02</td>\n      <td>3.120000e+02</td>\n      <td>3.120000e+02</td>\n      <td>312.000000</td>\n      <td>3.120000e+02</td>\n      <td>3.120000e+02</td>\n      <td>3.120000e+02</td>\n      <td>3.120000e+02</td>\n      <td>3.120000e+02</td>\n    </tr>\n    <tr>\n      <th>mean</th>\n      <td>3.665609</td>\n      <td>0.000000</td>\n      <td>0.000000</td>\n      <td>-6.832142e-17</td>\n      <td>-4.554761e-17</td>\n      <td>-5.465713e-16</td>\n      <td>-9.109522e-17</td>\n      <td>-3.074464e-16</td>\n      <td>9.109522e-17</td>\n      <td>0.000000</td>\n      <td>...</td>\n      <td>9.109522e-17</td>\n      <td>3.188333e-16</td>\n      <td>5.921189e-16</td>\n      <td>-1.366428e-16</td>\n      <td>0.000000</td>\n      <td>-1.821904e-16</td>\n      <td>-9.109522e-17</td>\n      <td>1.821904e-16</td>\n      <td>-9.109522e-17</td>\n      <td>1.366428e-16</td>\n    </tr>\n    <tr>\n      <th>std</th>\n      <td>7.651979</td>\n      <td>1.000000</td>\n      <td>1.000000</td>\n      <td>1.000000e+00</td>\n      <td>1.000000e+00</td>\n      <td>1.000000e+00</td>\n      <td>1.000000e+00</td>\n      <td>1.000000e+00</td>\n      <td>1.000000e+00</td>\n      <td>1.000000</td>\n      <td>...</td>\n      <td>1.000000e+00</td>\n      <td>1.000000e+00</td>\n      <td>1.000000e+00</td>\n      <td>1.000000e+00</td>\n      <td>1.000000</td>\n      <td>1.000000e+00</td>\n      <td>1.000000e+00</td>\n      <td>1.000000e+00</td>\n      <td>1.000000e+00</td>\n      <td>1.000000e+00</td>\n    </tr>\n    <tr>\n      <th>min</th>\n      <td>0.000000</td>\n      <td>-1.376301</td>\n      <td>-0.745399</td>\n      <td>-2.802898e+00</td>\n      <td>-6.981225e-01</td>\n      <td>-2.819861e+00</td>\n      <td>-2.027455e+00</td>\n      <td>-3.848483e+00</td>\n      <td>-3.020090e+00</td>\n      <td>-0.684428</td>\n      <td>...</td>\n      <td>-1.101598e+00</td>\n      <td>-2.779326e+00</td>\n      <td>-2.779298e+00</td>\n      <td>-3.190156e+00</td>\n      <td>-1.941074</td>\n      <td>-1.938327e+00</td>\n      <td>-1.969363e+00</td>\n      <td>-9.240388e-01</td>\n      <td>-9.158308e-01</td>\n      <td>-9.985752e-01</td>\n    </tr>\n    <tr>\n      <th>25%</th>\n      <td>0.040000</td>\n      <td>-0.908529</td>\n      <td>-0.745399</td>\n      <td>-5.278540e-01</td>\n      <td>-6.981225e-01</td>\n      <td>-6.417739e-01</td>\n      <td>-5.687133e-01</td>\n      <td>-2.664615e-01</td>\n      <td>-5.122272e-01</td>\n      <td>-0.684428</td>\n      <td>...</td>\n      <td>-1.101598e+00</td>\n      <td>-6.835497e-01</td>\n      <td>-6.835479e-01</td>\n      <td>-6.428236e-01</td>\n      <td>-0.254780</td>\n      <td>-2.556822e-01</td>\n      <td>-1.987793e-01</td>\n      <td>-9.240388e-01</td>\n      <td>-9.158308e-01</td>\n      <td>-9.985752e-01</td>\n    </tr>\n    <tr>\n      <th>50%</th>\n      <td>0.475000</td>\n      <td>0.039656</td>\n      <td>-0.745399</td>\n      <td>-9.559561e-02</td>\n      <td>-6.981225e-01</td>\n      <td>-1.994884e-01</td>\n      <td>-1.436197e-01</td>\n      <td>1.079496e-01</td>\n      <td>-1.250925e-01</td>\n      <td>-0.684428</td>\n      <td>...</td>\n      <td>5.768671e-02</td>\n      <td>-4.842395e-02</td>\n      <td>-4.842385e-02</td>\n      <td>-1.432065e-02</td>\n      <td>0.019078</td>\n      <td>1.972640e-02</td>\n      <td>1.037559e-02</td>\n      <td>-1.747231e-01</td>\n      <td>-1.883776e-01</td>\n      <td>4.968868e-02</td>\n    </tr>\n    <tr>\n      <th>75%</th>\n      <td>3.467500</td>\n      <td>0.583283</td>\n      <td>1.245687</td>\n      <td>4.561026e-01</td>\n      <td>1.375547e+00</td>\n      <td>8.106180e-01</td>\n      <td>5.589034e-01</td>\n      <td>3.698471e-01</td>\n      <td>4.957376e-01</td>\n      <td>1.363982</td>\n      <td>...</td>\n      <td>8.894872e-01</td>\n      <td>4.972699e-01</td>\n      <td>4.972691e-01</td>\n      <td>5.085031e-01</td>\n      <td>0.273414</td>\n      <td>2.745937e-01</td>\n      <td>2.188625e-01</td>\n      <td>1.086220e+00</td>\n      <td>1.091023e+00</td>\n      <td>9.801423e-01</td>\n    </tr>\n    <tr>\n      <th>max</th>\n      <td>57.310000</td>\n      <td>2.871571</td>\n      <td>1.715966</td>\n      <td>3.771979e+00</td>\n      <td>1.620336e+00</td>\n      <td>2.266015e+00</td>\n      <td>2.769390e+00</td>\n      <td>1.015817e+01</td>\n      <td>3.804556e+00</td>\n      <td>1.653636</td>\n      <td>...</td>\n      <td>1.497640e+00</td>\n      <td>2.091058e+00</td>\n      <td>2.091057e+00</td>\n      <td>1.969796e+00</td>\n      <td>2.516750</td>\n      <td>2.514884e+00</td>\n      <td>2.714263e+00</td>\n      <td>1.552433e+00</td>\n      <td>1.553000e+00</td>\n      <td>1.520383e+00</td>\n    </tr>\n  </tbody>\n</table>\n<p>8 rows × 333 columns</p>\n</div>"
     },
     "execution_count": 91,
     "metadata": {},
     "output_type": "execute_result"
    }
   ],
   "source": [
    "df_germany = df['germany']\n",
    "df['germany'].describe()"
   ],
   "metadata": {
    "collapsed": false,
    "pycharm": {
     "name": "#%%\n"
    }
   }
  },
  {
   "cell_type": "markdown",
   "source": [
    "Also transforming the incidence(applying the Leo Johnson Transform)\n",
    "\n",
    "We need to first see what the condition of the data is before we apply any transformation:"
   ],
   "metadata": {
    "collapsed": false,
    "pycharm": {
     "name": "#%% md\n"
    }
   }
  },
  {
   "cell_type": "code",
   "execution_count": 92,
   "outputs": [
    {
     "name": "stdout",
     "output_type": "stream",
     "text": [
      "\n",
      " mu = 3.67 and sigma = 7.64\n",
      "\n",
      "skewness is:\t3.7579859389207195\n"
     ]
    },
    {
     "data": {
      "text/plain": "<Figure size 432x288 with 1 Axes>",
      "image/png": "[encoded data removed]"
     },
     "metadata": {},
     "output_type": "display_data"
    },
    {
     "data": {
      "text/plain": "<Figure size 432x288 with 1 Axes>",
      "image/png": "[encoded data removed]"
     },
     "metadata": {},
     "output_type": "display_data"
    }
   ],
   "source": [
    "incidence_data = df['germany']['incidence']\n",
    "sns.distplot(incidence_data , fit=norm);\n",
    "\n",
    "# Get the fitted parameters used by the function\n",
    "(mu, sigma) = norm.fit(incidence_data)\n",
    "print( '\\n mu = {:.2f} and sigma = {:.2f}\\n'.format(mu, sigma))\n",
    "\n",
    "#Now plot the distribution\n",
    "plt.legend(['Normal dist. ($\\mu=$ {:.2f} and $\\sigma=$ {:.2f} )'.format(mu, sigma)],\n",
    "            loc='best')\n",
    "plt.ylabel('Frequency')\n",
    "plt.title('Germany incidence distribution')\n",
    "\n",
    "#Get also the QQ-plot\n",
    "fig = plt.figure()\n",
    "res = stats.probplot(incidence_data, plot=plt)\n",
    "plt.show()\n",
    "\n",
    "print('skewness is:\\t' + str(incidence_data.skew()))"
   ],
   "metadata": {
    "collapsed": false,
    "pycharm": {
     "name": "#%%\n"
    }
   }
  },
  {
   "cell_type": "code",
   "execution_count": 93,
   "outputs": [
    {
     "name": "stdout",
     "output_type": "stream",
     "text": [
      "\n",
      " mu = 0.47 and sigma = 0.44\n",
      "\n",
      "skewness after yeojohnson is:\t0.41976583970488685\n",
      "lambda after yeojohnson is:\t-0.7479037568078828\n"
     ]
    },
    {
     "data": {
      "text/plain": "<Figure size 432x288 with 1 Axes>",
      "image/png": "[encoded data removed]"
     },
     "metadata": {},
     "output_type": "display_data"
    },
    {
     "data": {
      "text/plain": "<Figure size 432x288 with 1 Axes>",
      "image/png": "[encoded data removed]"
     },
     "metadata": {},
     "output_type": "display_data"
    }
   ],
   "source": [
    "incidence_data = df['germany']['incidence'] + 1\n",
    "incidence_data, lmbda_incidence = stats.boxcox(incidence_data)\n",
    "incidence_data = pd.Series(incidence_data)\n",
    "\n",
    "#Check the new distribution\n",
    "sns.distplot(incidence_data , fit=norm)\n",
    "\n",
    "# Get the fitted parameters used by the function\n",
    "(mu, sigma) = norm.fit(incidence_data)\n",
    "print( '\\n mu = {:.2f} and sigma = {:.2f}\\n'.format(mu, sigma))\n",
    "\n",
    "#Now plot the distribution\n",
    "plt.legend(['Normal dist. ($\\mu=$ {:.2f} and $\\sigma=$ {:.2f} )'.format(mu, sigma)],\n",
    "            loc='best')\n",
    "plt.ylabel('Frequency')\n",
    "plt.title('Germany incidence distribution')\n",
    "\n",
    "#Get also the QQ-plot\n",
    "fig = plt.figure()\n",
    "res = stats.probplot(incidence_data, plot=plt)\n",
    "plt.show()\n",
    "\n",
    "print('skewness after yeojohnson is:\\t' + str(incidence_data.skew()))\n",
    "print('lambda after yeojohnson is:\\t' + str(lmbda_incidence))\n",
    "\n",
    "df['germany']['incidence'] = incidence_data\n",
    "lmbda['germany']['incidence'] = lmbda_incidence"
   ],
   "metadata": {
    "collapsed": false,
    "pycharm": {
     "name": "#%%\n"
    }
   }
  },
  {
   "cell_type": "markdown",
   "source": [
    "We have successfully normalized and scaled all the numerical features.\n",
    "\n",
    "Now we have to deal with the week. This is a categorical variable which we will one hot encode.\n",
    "\n",
    "This is swhat the week column looks like:"
   ],
   "metadata": {
    "collapsed": false,
    "pycharm": {
     "name": "#%% md\n"
    }
   }
  },
  {
   "cell_type": "code",
   "execution_count": 94,
   "outputs": [
    {
     "data": {
      "text/plain": "259    2017-15\n23     2008-13\n225    2016-07\n203    2015-11\n182    2014-42\nName: week, dtype: object"
     },
     "execution_count": 94,
     "metadata": {},
     "output_type": "execute_result"
    }
   ],
   "source": [
    "df['germany']['week'].sample(5)"
   ],
   "metadata": {
    "collapsed": false,
    "pycharm": {
     "name": "#%%\n"
    }
   }
  },
  {
   "cell_type": "markdown",
   "source": [
    "What we have to do to this is first get the week number as an integer. For that we will get the last two characters of this string."
   ],
   "metadata": {
    "collapsed": false,
    "pycharm": {
     "name": "#%% md\n"
    }
   }
  },
  {
   "cell_type": "code",
   "execution_count": 95,
   "outputs": [
    {
     "data": {
      "text/plain": "237    45\n50     14\n124    10\n84     48\n161    47\nName: week_number, dtype: object"
     },
     "execution_count": 95,
     "metadata": {},
     "output_type": "execute_result"
    }
   ],
   "source": [
    "week_number = []\n",
    "for index, row in df['germany'].iterrows():\n",
    "    week_number.append(row['week'][-2:])\n",
    "df['germany']['week_number'] = week_number\n",
    "df['germany']['week_number'].sample(5)"
   ],
   "metadata": {
    "collapsed": false,
    "pycharm": {
     "name": "#%%\n"
    }
   }
  },
  {
   "cell_type": "markdown",
   "source": [
    "one hot encoding week numbers:"
   ],
   "metadata": {
    "collapsed": false,
    "pycharm": {
     "name": "#%% md\n"
    }
   }
  },
  {
   "cell_type": "code",
   "execution_count": 96,
   "outputs": [
    {
     "data": {
      "text/plain": "     week_01  week_02  week_03  week_04  week_05  week_06  week_07  week_08  \\\n138        0        0        0        0        0        0        0        0   \n280        0        0        0        0        0        0        0        0   \n265        0        0        0        0        0        0        0        0   \n93         0        0        0        0        1        0        0        0   \n207        0        0        0        0        0        0        0        0   \n\n     week_09  week_10   ...     week_43  week_44  week_45  week_46  week_47  \\\n138        0        0   ...           0        0        0        0        0   \n280        0        1   ...           0        0        0        0        0   \n265        0        0   ...           0        0        0        0        1   \n93         0        0   ...           0        0        0        0        0   \n207        0        0   ...           0        0        0        0        0   \n\n     week_48  week_49  week_50  week_51  week_52  \n138        0        0        1        0        0  \n280        0        0        0        0        0  \n265        0        0        0        0        0  \n93         0        0        0        0        0  \n207        0        0        0        0        0  \n\n[5 rows x 26 columns]",
      "text/html": "<div>\n<style scoped>\n    .dataframe tbody tr th:only-of-type {\n        vertical-align: middle;\n    }\n\n    .dataframe tbody tr th {\n        vertical-align: top;\n    }\n\n    .dataframe thead th {\n        text-align: right;\n    }\n</style>\n<table border=\"1\" class=\"dataframe\">\n  <thead>\n    <tr style=\"text-align: right;\">\n      <th></th>\n      <th>week_01</th>\n      <th>week_02</th>\n      <th>week_03</th>\n      <th>week_04</th>\n      <th>week_05</th>\n      <th>week_06</th>\n      <th>week_07</th>\n      <th>week_08</th>\n      <th>week_09</th>\n      <th>week_10</th>\n      <th>...</th>\n      <th>week_43</th>\n      <th>week_44</th>\n      <th>week_45</th>\n      <th>week_46</th>\n      <th>week_47</th>\n      <th>week_48</th>\n      <th>week_49</th>\n      <th>week_50</th>\n      <th>week_51</th>\n      <th>week_52</th>\n    </tr>\n  </thead>\n  <tbody>\n    <tr>\n      <th>138</th>\n      <td>0</td>\n      <td>0</td>\n      <td>0</td>\n      <td>0</td>\n      <td>0</td>\n      <td>0</td>\n      <td>0</td>\n      <td>0</td>\n      <td>0</td>\n      <td>0</td>\n      <td>...</td>\n      <td>0</td>\n      <td>0</td>\n      <td>0</td>\n      <td>0</td>\n      <td>0</td>\n      <td>0</td>\n      <td>0</td>\n      <td>1</td>\n      <td>0</td>\n      <td>0</td>\n    </tr>\n    <tr>\n      <th>280</th>\n      <td>0</td>\n      <td>0</td>\n      <td>0</td>\n      <td>0</td>\n      <td>0</td>\n      <td>0</td>\n      <td>0</td>\n      <td>0</td>\n      <td>0</td>\n      <td>1</td>\n      <td>...</td>\n      <td>0</td>\n      <td>0</td>\n      <td>0</td>\n      <td>0</td>\n      <td>0</td>\n      <td>0</td>\n      <td>0</td>\n      <td>0</td>\n      <td>0</td>\n      <td>0</td>\n    </tr>\n    <tr>\n      <th>265</th>\n      <td>0</td>\n      <td>0</td>\n      <td>0</td>\n      <td>0</td>\n      <td>0</td>\n      <td>0</td>\n      <td>0</td>\n      <td>0</td>\n      <td>0</td>\n      <td>0</td>\n      <td>...</td>\n      <td>0</td>\n      <td>0</td>\n      <td>0</td>\n      <td>0</td>\n      <td>1</td>\n      <td>0</td>\n      <td>0</td>\n      <td>0</td>\n      <td>0</td>\n      <td>0</td>\n    </tr>\n    <tr>\n      <th>93</th>\n      <td>0</td>\n      <td>0</td>\n      <td>0</td>\n      <td>0</td>\n      <td>1</td>\n      <td>0</td>\n      <td>0</td>\n      <td>0</td>\n      <td>0</td>\n      <td>0</td>\n      <td>...</td>\n      <td>0</td>\n      <td>0</td>\n      <td>0</td>\n      <td>0</td>\n      <td>0</td>\n      <td>0</td>\n      <td>0</td>\n      <td>0</td>\n      <td>0</td>\n      <td>0</td>\n    </tr>\n    <tr>\n      <th>207</th>\n      <td>0</td>\n      <td>0</td>\n      <td>0</td>\n      <td>0</td>\n      <td>0</td>\n      <td>0</td>\n      <td>0</td>\n      <td>0</td>\n      <td>0</td>\n      <td>0</td>\n      <td>...</td>\n      <td>0</td>\n      <td>0</td>\n      <td>0</td>\n      <td>0</td>\n      <td>0</td>\n      <td>0</td>\n      <td>0</td>\n      <td>0</td>\n      <td>0</td>\n      <td>0</td>\n    </tr>\n  </tbody>\n</table>\n<p>5 rows × 26 columns</p>\n</div>"
     },
     "execution_count": 96,
     "metadata": {},
     "output_type": "execute_result"
    }
   ],
   "source": [
    "one_hot_encoded_weeks = pd.get_dummies(df['germany']['week_number'], prefix='week')\n",
    "one_hot_encoded_weeks.sample(5)"
   ],
   "metadata": {
    "collapsed": false,
    "pycharm": {
     "name": "#%%\n"
    }
   }
  },
  {
   "cell_type": "markdown",
   "source": [
    "finally all we have left to do is merge the two dataframes into one and drop the `week_number` column."
   ],
   "metadata": {
    "collapsed": false,
    "pycharm": {
     "name": "#%% md\n"
    }
   }
  },
  {
   "cell_type": "code",
   "execution_count": 97,
   "outputs": [],
   "source": [
    "df['germany'] = pd.concat([df['germany'], one_hot_encoded_weeks], axis=1)\n",
    "df['germany'] = df['germany'].drop(columns=['week_number'])"
   ],
   "metadata": {
    "collapsed": false,
    "pycharm": {
     "name": "#%%\n"
    }
   }
  },
  {
   "cell_type": "markdown",
   "source": [
    "We are done with features engineering for germany.\n",
    "\n",
    "Now we will do the same thing for all the countries:\n",
    "But first, let's define a few functions that will help us out:"
   ],
   "metadata": {
    "collapsed": false,
    "pycharm": {
     "name": "#%% md\n"
    }
   }
  },
  {
   "cell_type": "code",
   "execution_count": 98,
   "outputs": [],
   "source": [
    "def add_polynomial_features(country, df, num):\n",
    "    # find the correlation matrix.\n",
    "    correlation_matrix = df[country].corr()\n",
    "    correlation_matrix.sort_values(['incidence'], ascending=False,\n",
    "                                   inplace=True)\n",
    "\n",
    "    count = 0\n",
    "    for column, correlation in correlation_matrix['incidence'].items():\n",
    "        if count > num:\n",
    "            break\n",
    "        if column == 'incidence' or column == 'week' or column == 'date':\n",
    "            continue\n",
    "        df[country][column + '-s2'] = df[country][column] ** 2\n",
    "        df[country][column + '-s3'] = df[country][column] ** 3\n",
    "        df[country][column + '-sq'] = np.sqrt(df[country][column])\n",
    "        count += 1"
   ],
   "metadata": {
    "collapsed": false,
    "pycharm": {
     "name": "#%%\n"
    }
   }
  },
  {
   "cell_type": "code",
   "execution_count": 99,
   "outputs": [],
   "source": [
    "def train_leo_johnson(df, lmbda, skewed_features):\n",
    "    for feature in skewed_features:\n",
    "        column = df[feature] + 1\n",
    "        column, lmbda[feature] = stats.boxcox(column)\n",
    "        column = pd.Series(column)\n",
    "        df[feature] = column"
   ],
   "metadata": {
    "collapsed": false,
    "pycharm": {
     "name": "#%%\n"
    }
   }
  },
  {
   "cell_type": "code",
   "execution_count": 100,
   "outputs": [],
   "source": [
    "def train_std_normal(df, numerical_features, means, std_deviations):\n",
    "    for feature in numerical_features:\n",
    "        column = df[feature]\n",
    "        means[feature] = column.mean()\n",
    "        std_deviations[feature] = column.std()\n",
    "        column -= means[feature]\n",
    "        column /= std_deviations[feature]\n",
    "        df[feature] = column"
   ],
   "metadata": {
    "collapsed": false,
    "pycharm": {
     "name": "#%%\n"
    }
   }
  },
  {
   "cell_type": "code",
   "execution_count": 101,
   "outputs": [],
   "source": [
    "def hot_encode_weeks(country, df):\n",
    "    week_number = []\n",
    "    for index, row in df[country].iterrows():\n",
    "        week_number.append(row['week'][-2:])\n",
    "    df[country]['week_number'] = week_number\n",
    "    one_hot_encoded_weeks = pd.get_dummies(df[country]['week_number'],\n",
    "                                           prefix='week')\n",
    "    df[country] = pd.concat([df[country], one_hot_encoded_weeks], axis=1)\n",
    "    df[country].drop(columns=['week_number'])"
   ],
   "metadata": {
    "collapsed": false,
    "pycharm": {
     "name": "#%%\n"
    }
   }
  },
  {
   "cell_type": "code",
   "execution_count": 102,
   "outputs": [
    {
     "name": "stderr",
     "output_type": "stream",
     "text": [
      "/home/tejsukhatme/anaconda3/envs/python3.5/lib/python3.5/site-packages/scipy/stats/morestats.py:900: RuntimeWarning: divide by zero encountered in log\n",
      "  llf -= N / 2.0 * np.log(np.sum((y - y_mean)**2. / N, axis=0))\n",
      "/home/tejsukhatme/anaconda3/envs/python3.5/lib/python3.5/site-packages/scipy/optimize/optimize.py:1928: RuntimeWarning: invalid value encountered in double_scalars\n",
      "  p = (x - v) * tmp2 - (x - w) * tmp1\n",
      "/home/tejsukhatme/anaconda3/envs/python3.5/lib/python3.5/site-packages/scipy/optimize/optimize.py:1929: RuntimeWarning: invalid value encountered in double_scalars\n",
      "  tmp2 = 2.0 * (tmp2 - tmp1)\n",
      "/home/tejsukhatme/anaconda3/envs/python3.5/lib/python3.5/site-packages/scipy/optimize/optimize.py:1927: RuntimeWarning: invalid value encountered in double_scalars\n",
      "  tmp2 = (x - v) * (fx - fw)\n",
      "/home/tejsukhatme/anaconda3/envs/python3.5/lib/python3.5/site-packages/scipy/optimize/optimize.py:1926: RuntimeWarning: invalid value encountered in double_scalars\n",
      "  tmp1 = (x - w) * (fx - fv)\n"
     ]
    }
   ],
   "source": [
    "for country in COUNTRIES:\n",
    "    if country == 'germany': continue;\n",
    "\n",
    "    add_polynomial_features(country, df, 10)\n",
    "\n",
    "    # separate numerical features from categorical ones\n",
    "    numerical_features = df[country].select_dtypes(exclude=[\"object\"]).columns\n",
    "    numerical_features = numerical_features.drop('incidence')\n",
    "\n",
    "    # skewness of >0.5 can be considered to be moderately skewed.\n",
    "    skewness = df[country][numerical_features].apply(lambda x: skew(x))\n",
    "    skewness = skewness[abs(skewness) > 0.5]\n",
    "    skewed_features = skewness.index\n",
    "    train_leo_johnson(df[country], lmbda[country], skewed_features)\n",
    "\n",
    "    means = {}\n",
    "    std_deviations = {}\n",
    "    train_std_normal(df[country], numerical_features, means, std_deviations)\n",
    "\n",
    "    # apply yeo johnson to incidence too\n",
    "    train_leo_johnson(df[country], lmbda[country], ['incidence'])\n",
    "\n",
    "    hot_encode_weeks(country, df)"
   ],
   "metadata": {
    "collapsed": false,
    "pycharm": {
     "name": "#%%\n"
    }
   }
  },
  {
   "cell_type": "markdown",
   "source": [
    "And thus we conclude all the feature engineering that we will need to do for this dataset."
   ],
   "metadata": {
    "collapsed": false,
    "pycharm": {
     "name": "#%% md\n"
    }
   }
  }
 ],
 "metadata": {
  "kernelspec": {
   "name": "python3",
   "language": "python",
   "display_name": "Python 3"
  },
  "language_info": {
   "codemirror_mode": {
    "name": "ipython",
    "version": 2
   },
   "file_extension": ".py",
   "mimetype": "text/x-python",
   "name": "python",
   "nbconvert_exporter": "python",
   "pygments_lexer": "ipython2",
   "version": "2.7.6"
  }
 },
 "nbformat": 4,
 "nbformat_minor": 0
}