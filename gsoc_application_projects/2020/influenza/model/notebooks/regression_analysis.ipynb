{
 "cells": [
  {
   "cell_type": "code",
   "execution_count": 27,
   "metadata": {
    "collapsed": true
   },
   "outputs": [],
   "source": [
    "from pathlib import Path\n",
    "import pandas as pd\n",
    "import numpy as np\n",
    "import shogun as sg\n",
    "from scipy.stats import skew\n",
    "from scipy import stats\n",
    "import util\n",
    "import process\n",
    "# from process import train_leo_johnson"
   ]
  },
  {
   "cell_type": "markdown",
   "source": [
    "Let's consider Italy first"
   ],
   "metadata": {
    "collapsed": false,
    "pycharm": {
     "name": "#%% md\n"
    }
   }
  },
  {
   "cell_type": "code",
   "execution_count": 28,
   "outputs": [],
   "source": [
    "from pathlib import Path\n",
    "\n",
    "path = Path.cwd()\n",
    "cleaned_data_path = path.parent / 'data' / 'cleaned'\n",
    "\n",
    "countries = ['austria', 'belgium', 'germany', 'italy', 'netherlands']\n",
    "\n",
    "df = {}\n",
    "for country in countries :\n",
    "    file_path = cleaned_data_path / (country+'.csv')\n",
    "    df[country] = pd.read_csv(file_path)\n",
    "\n",
    "country = 'italy'"
   ],
   "metadata": {
    "collapsed": false,
    "pycharm": {
     "name": "#%%\n"
    }
   }
  },
  {
   "cell_type": "code",
   "execution_count": 29,
   "outputs": [],
   "source": [
    "process.add_polynomial_features(country, df, 10)"
   ],
   "metadata": {
    "collapsed": false,
    "pycharm": {
     "name": "#%%\n"
    }
   }
  },
  {
   "cell_type": "code",
   "execution_count": 30,
   "outputs": [],
   "source": [
    "\n",
    "numerical_features = df[country].select_dtypes(exclude=[\"object\"]).columns\n",
    "numerical_features = numerical_features.drop('incidence')"
   ],
   "metadata": {
    "collapsed": false,
    "pycharm": {
     "name": "#%%\n"
    }
   }
  },
  {
   "cell_type": "code",
   "execution_count": 31,
   "outputs": [],
   "source": [
    "process.hot_encode_weeks(country, df)\n",
    "df_italy = df[country]\n",
    "df[country] = df[country].drop(columns=['week', 'date'])"
   ],
   "metadata": {
    "collapsed": false,
    "pycharm": {
     "name": "#%%\n"
    }
   }
  },
  {
   "cell_type": "markdown",
   "source": [
    "Partition the dataset in train + validation sets"
   ],
   "metadata": {
    "collapsed": false,
    "pycharm": {
     "name": "#%% md\n"
    }
   }
  },
  {
   "cell_type": "code",
   "execution_count": 32,
   "outputs": [
    {
     "name": "stdout",
     "output_type": "stream",
     "text": [
      "X_train : (250, 439)\n",
      "X_test : (62, 439)\n",
      "y_train : (250, 1)\n",
      "y_test : (62, 1)\n"
     ]
    }
   ],
   "source": [
    "train = {'italy': df[country].sample(frac=0.8,random_state=200)}\n",
    "test = {'italy': df[country].drop(train[country].index)}\n",
    "# train[country]=df[country].sample(frac=0.8,random_state=200)\n",
    "# test[country]=df[country].drop(train.index)\n",
    "train_italy = train['italy']\n",
    "\n",
    "y_train = pd.Series(train[country]['incidence']).to_frame('incidence')\n",
    "y_test = pd.Series(test[country]['incidence']).to_frame('incidence')\n",
    "X_train = train[country].drop(columns=['incidence'])\n",
    "X_test = test[country].drop(columns=['incidence'])\n",
    "\n",
    "print(\"X_train : \" + str(X_train.shape))\n",
    "print(\"X_test : \" + str(X_test.shape))\n",
    "print(\"y_train : \" + str(y_train.shape))\n",
    "print(\"y_test : \" + str(y_test.shape))"
   ],
   "metadata": {
    "collapsed": false,
    "pycharm": {
     "name": "#%%\n"
    }
   }
  },
  {
   "cell_type": "markdown",
   "source": [
    "now we will apply our transformations."
   ],
   "metadata": {
    "collapsed": false,
    "pycharm": {
     "name": "#%% md\n"
    }
   }
  },
  {
   "cell_type": "code",
   "execution_count": 33,
   "outputs": [
    {
     "data": {
      "text/plain": "Acrocianosi                            0.501738\nAcroosteolisi                          1.703032\nAdiadococinesia                        1.097576\nAlfuy_virus                            6.839026\nAlitosi                                1.746707\nAllucinazione_uditiva                  1.616044\nAnatossina                             0.723457\nAngioma_stellare                       1.309031\nAnossia                                0.729909\nApoi_virus                             2.429184\nArco_senile                            1.120637\nAroa_virus                             7.438045\nAsterissi                              1.187344\nBacillo_di_Calmette-Guérin             1.351822\nBagaza_virus                          10.739271\nBaiyangdian_virus                      8.655033\nBanzi_virus                            3.282595\nBrina_uremica                          0.636195\nBronchite                              1.246843\nBroncorrea                             0.550191\nBroncospasmo                           0.666594\nBroncospasmo_paradosso                 0.757677\nBubbone                                0.645775\nBussuquara_virus                       5.005771\nCacipacore_virus                       5.161990\nCarbosap                               1.253666\nCataplessia                            5.095726\nCianosi                                1.114456\nCoilonichia                            6.337874\nCongelamento_(medicina)                4.329640\n                                        ...    \nYokose_virus                          11.388644\nInfluenzavirus_A_sottotipo_H1N1-s2    13.434186\nInfluenzavirus_A_sottotipo_H1N1-s3    15.395808\nInfluenzavirus_A_sottotipo_H1N1-sq     1.488870\nFebbre-s2                              2.338674\nFebbre-s3                              3.674730\nInfluenza_di_Hong_Kong-s2              7.110600\nInfluenza_di_Hong_Kong-s3             10.238377\nInfluenza_di_Hong_Kong-sq              1.375295\nBronchite-s2                           3.134584\nBronchite-s3                           5.731282\nFago_lambda-s2                         1.109598\nFago_lambda-s3                         1.798162\nFago_lambda-sq                        -1.139135\nInfluenza_spagnola-s2                  3.024620\nInfluenza_spagnola-s3                  4.688919\nAnatossina-s2                          1.778111\nAnatossina-s3                          2.629475\nAnatossina-sq                         -0.619592\nVirus_adeno-associati-s2               2.307085\nVirus_adeno-associati-s3               3.299645\nAnossia-s2                             2.242462\nAnossia-s3                             3.616089\nAnossia-sq                            -1.101575\nFebbre_gialla-s2                       3.131177\nFebbre_gialla-s3                       4.729592\nFebbre_gialla-sq                      -0.582714\nSoffio_di_Flint-s2                     2.895504\nSoffio_di_Flint-s3                     3.982774\nSoffio_di_Flint-sq                     0.629047\nLength: 312, dtype: float64"
     },
     "execution_count": 33,
     "metadata": {},
     "output_type": "execute_result"
    }
   ],
   "source": [
    "lmbda = {'austria'    : {}, 'belgium': {}, 'germany': {}, 'italy': {},\n",
    "             'netherlands': {}}\n",
    "\n",
    "# skewness of >0.5 can be considered to be moderately skewed.\n",
    "skewness = X_train[numerical_features].apply(lambda x: skew(x))\n",
    "skewness = skewness[abs(skewness) > 0.5]\n",
    "skewness"
   ],
   "metadata": {
    "collapsed": false,
    "pycharm": {
     "name": "#%%\n"
    }
   }
  },
  {
   "cell_type": "code",
   "execution_count": 34,
   "outputs": [
    {
     "data": {
      "text/plain": "Index(['Acrocianosi', 'Acroosteolisi', 'Adiadococinesia', 'Alfuy_virus',\n       'Alitosi', 'Allucinazione_uditiva', 'Anatossina', 'Angioma_stellare',\n       'Anossia', 'Apoi_virus',\n       ...\n       'Virus_adeno-associati-s3', 'Anossia-s2', 'Anossia-s3', 'Anossia-sq',\n       'Febbre_gialla-s2', 'Febbre_gialla-s3', 'Febbre_gialla-sq',\n       'Soffio_di_Flint-s2', 'Soffio_di_Flint-s3', 'Soffio_di_Flint-sq'],\n      dtype='object', length=312)"
     },
     "execution_count": 34,
     "metadata": {},
     "output_type": "execute_result"
    }
   ],
   "source": [
    "skewed_features = skewness.index\n",
    "skewed_features"
   ],
   "metadata": {
    "collapsed": false,
    "pycharm": {
     "name": "#%%\n"
    }
   }
  },
  {
   "cell_type": "code",
   "execution_count": 35,
   "outputs": [],
   "source": [
    "def train_leo_johnson(df, lmbda, skewed_features):\n",
    "    for feature in skewed_features:\n",
    "        column = df[feature] + 1\n",
    "        column, lmbda[feature] = stats.boxcox(column)\n",
    "        column = pd.Series(column)\n",
    "        df[feature] = column"
   ],
   "metadata": {
    "collapsed": false,
    "pycharm": {
     "name": "#%%\n"
    }
   }
  },
  {
   "cell_type": "code",
   "execution_count": 36,
   "outputs": [],
   "source": [
    "process.train_leo_johnson(X_train, lmbda[country], skewed_features)\n",
    "process.train_leo_johnson(y_train, lmbda[country], ['incidence'])"
   ],
   "metadata": {
    "collapsed": false,
    "pycharm": {
     "name": "#%%\n"
    }
   }
  },
  {
   "cell_type": "code",
   "execution_count": 37,
   "outputs": [],
   "source": [
    "def train_std_normal(df, numerical_features, means, std_deviations):\n",
    "    for feature in numerical_features:\n",
    "        column = df[feature]\n",
    "        means[feature] = column.mean()\n",
    "        std_deviations[feature] = column.std()\n",
    "        column -= means[feature]\n",
    "        column /= std_deviations[feature]\n",
    "        df[feature] = column"
   ],
   "metadata": {
    "collapsed": false,
    "pycharm": {
     "name": "#%%\n"
    }
   }
  },
  {
   "cell_type": "code",
   "execution_count": 38,
   "outputs": [],
   "source": [
    "means = {}\n",
    "std_deviations = {}\n",
    "process.train_std_normal(X_train, numerical_features, means, std_deviations)"
   ],
   "metadata": {
    "collapsed": false,
    "pycharm": {
     "name": "#%%\n"
    }
   }
  },
  {
   "cell_type": "code",
   "execution_count": 39,
   "outputs": [],
   "source": [
    "# we apply the Yeo Johnson Transformation.\n",
    "def apply_leo_johnson(df, lmbda, skewed_features):\n",
    "    for feature in skewed_features:\n",
    "        column = df[feature] + 1\n",
    "        column = stats.boxcox(column, lmbda=lmbda[feature])\n",
    "        column = pd.Series(column)\n",
    "        df[feature] = column"
   ],
   "metadata": {
    "collapsed": false,
    "pycharm": {
     "name": "#%%\n"
    }
   }
  },
  {
   "cell_type": "code",
   "execution_count": 40,
   "outputs": [],
   "source": [
    "process.apply_leo_johnson(X_test, lmbda[country], skewed_features)\n",
    "process.apply_leo_johnson(y_test, lmbda[country], ['incidence'])"
   ],
   "metadata": {
    "collapsed": false,
    "pycharm": {
     "name": "#%%\n"
    }
   }
  },
  {
   "cell_type": "code",
   "execution_count": 41,
   "outputs": [],
   "source": [
    "# we transform features so that mean is 0 and std deviation is 1.\n",
    "def apply_std_normal(df, numerical_features, means, std_deviations):\n",
    "    for feature in numerical_features:\n",
    "        column = df[feature]\n",
    "        column -= means[feature]\n",
    "        column /= std_deviations[feature]\n",
    "        df[feature] = column"
   ],
   "metadata": {
    "collapsed": false,
    "pycharm": {
     "name": "#%%\n"
    }
   }
  },
  {
   "cell_type": "code",
   "execution_count": 42,
   "outputs": [],
   "source": [
    "process.apply_std_normal(X_test, numerical_features, means, std_deviations)"
   ],
   "metadata": {
    "collapsed": false,
    "pycharm": {
     "name": "#%%\n"
    }
   }
  },
  {
   "cell_type": "markdown",
   "source": [
    "Transformations have been applied, and data is ready.\n",
    "\n",
    "applying Linear Regression without regularization"
   ],
   "metadata": {
    "collapsed": false,
    "pycharm": {
     "name": "#%% md\n"
    }
   }
  },
  {
   "cell_type": "code",
   "execution_count": 43,
   "outputs": [],
   "source": [
    "X_train = X_train.fillna(0)\n",
    "X_test = X_test.fillna(0)\n",
    "y_train = y_train.fillna(0)\n",
    "y_test = y_test.fillna(0)"
   ],
   "metadata": {
    "collapsed": false,
    "pycharm": {
     "name": "#%%\n"
    }
   }
  },
  {
   "cell_type": "code",
   "execution_count": 44,
   "outputs": [],
   "source": [
    "final_data_path = path.parent / 'data' / 'test'\n",
    "final_file_path = final_data_path / 'X_train.csv'\n",
    "X_train.to_csv(final_file_path, index=False)\n",
    "\n",
    "f_feats_train = sg.read_csv(str(final_file_path.absolute()))\n",
    "\n",
    "features_train = sg.create_features(f_feats_train)"
   ],
   "metadata": {
    "collapsed": false,
    "pycharm": {
     "name": "#%%\n"
    }
   }
  },
  {
   "cell_type": "code",
   "execution_count": 45,
   "outputs": [],
   "source": [
    "final_data_path = path.parent / 'data' / 'test'\n",
    "final_file_path = final_data_path / 'X_test.csv'\n",
    "X_test.to_csv(final_file_path, index=False)\n",
    "\n",
    "f_feats_test = sg.read_csv(str(final_file_path.absolute()))\n",
    "\n",
    "features_test = sg.create_features(f_feats_test)"
   ],
   "metadata": {
    "collapsed": false,
    "pycharm": {
     "name": "#%%\n"
    }
   }
  },
  {
   "cell_type": "code",
   "execution_count": 46,
   "outputs": [],
   "source": [
    "final_data_path = path.parent / 'data' / 'test'\n",
    "final_file_path = final_data_path / 'y_train.csv'\n",
    "y_train.to_csv(final_file_path, index=False)\n",
    "\n",
    "f_labels_train = sg.read_csv(str(final_file_path.absolute()))\n",
    "\n",
    "labels_train = sg.create_labels(f_labels_train)"
   ],
   "metadata": {
    "collapsed": false,
    "pycharm": {
     "name": "#%%\n"
    }
   }
  },
  {
   "cell_type": "code",
   "execution_count": 47,
   "outputs": [],
   "source": [
    "final_data_path = path.parent / 'data' / 'test'\n",
    "final_file_path = final_data_path / 'y_test.csv'\n",
    "y_test.to_csv(final_file_path, index=False)\n",
    "\n",
    "f_labels_test = sg.read_csv(str(final_file_path.absolute()))\n",
    "\n",
    "labels_test = sg.create_labels(f_labels_test)"
   ],
   "metadata": {
    "collapsed": false,
    "pycharm": {
     "name": "#%%\n"
    }
   }
  },
  {
   "cell_type": "code",
   "execution_count": 48,
   "outputs": [],
   "source": [
    "lrr = sg.create_machine(\"LinearRidgeRegression\", tau=0.001, labels=labels_train, use_bias=False)"
   ],
   "metadata": {
    "collapsed": false,
    "pycharm": {
     "name": "#%%\n"
    }
   }
  },
  {
   "cell_type": "code",
   "execution_count": 49,
   "outputs": [
    {
     "data": {
      "text/plain": "True"
     },
     "execution_count": 49,
     "metadata": {},
     "output_type": "execute_result"
    }
   ],
   "source": [
    "lrr.train(features_train)"
   ],
   "metadata": {
    "collapsed": false,
    "pycharm": {
     "name": "#%%\n"
    }
   }
  },
  {
   "cell_type": "code",
   "execution_count": 50,
   "outputs": [
    {
     "data": {
      "text/plain": "RegressionLabels(num_subscriptions={function}, subset_stack=SubsetStack(...), current_values=Vector<0> ), labels=Vector<63>( -nan, -nan, -nan, -nan, -nan, -nan, -nan, -nan, -nan, -nan, -nan, -nan, -nan, -nan, -nan, -nan, -nan, -nan, -nan, -nan, -nan, -nan, -nan, -nan, -nan, -nan, -nan, -nan, -nan, -nan, -nan, -nan, -nan, -nan, -nan, -nan, -nan, -nan, -nan, -nan, -nan, -nan, -nan, -nan, -nan, -nan, -nan, -nan, -nan, -nan, -nan, -nan, -nan, -nan, -nan, -nan, -nan, -nan, -nan, -nan, -nan, -nan, -nan ), num_labels={function})"
     },
     "execution_count": 50,
     "metadata": {},
     "output_type": "execute_result"
    }
   ],
   "source": [
    "labels_predict = lrr.apply(features_test)\n",
    "labels_predict"
   ],
   "metadata": {
    "collapsed": false,
    "pycharm": {
     "name": "#%%\n"
    }
   }
  },
  {
   "cell_type": "code",
   "execution_count": 51,
   "outputs": [
    {
     "data": {
      "text/plain": "array([nan, nan, nan, nan, nan, nan, nan, nan, nan, nan, nan, nan, nan,\n       nan, nan, nan, nan, nan, nan, nan, nan, nan, nan, nan, nan, nan,\n       nan, nan, nan, nan, nan, nan, nan, nan, nan, nan, nan, nan, nan,\n       nan, nan, nan, nan, nan, nan, nan, nan, nan, nan, nan, nan, nan,\n       nan, nan, nan, nan, nan, nan, nan, nan, nan, nan, nan, nan, nan,\n       nan, nan, nan, nan, nan, nan, nan, nan, nan, nan, nan, nan, nan,\n       nan, nan, nan, nan, nan, nan, nan, nan, nan, nan, nan, nan, nan,\n       nan, nan, nan, nan, nan, nan, nan, nan, nan, nan, nan, nan, nan,\n       nan, nan, nan, nan, nan, nan, nan, nan, nan, nan, nan, nan, nan,\n       nan, nan, nan, nan, nan, nan, nan, nan, nan, nan, nan, nan, nan,\n       nan, nan, nan, nan, nan, nan, nan, nan, nan, nan, nan, nan, nan,\n       nan, nan, nan, nan, nan, nan, nan, nan, nan, nan, nan, nan, nan,\n       nan, nan, nan, nan, nan, nan, nan, nan, nan, nan, nan, nan, nan,\n       nan, nan, nan, nan, nan, nan, nan, nan, nan, nan, nan, nan, nan,\n       nan, nan, nan, nan, nan, nan, nan, nan, nan, nan, nan, nan, nan,\n       nan, nan, nan, nan, nan, nan, nan, nan, nan, nan, nan, nan, nan,\n       nan, nan, nan, nan, nan, nan, nan, nan, nan, nan, nan, nan, nan,\n       nan, nan, nan, nan, nan, nan, nan, nan, nan, nan, nan, nan, nan,\n       nan, nan, nan, nan, nan, nan, nan, nan, nan, nan, nan, nan, nan,\n       nan, nan, nan, nan, nan, nan, nan, nan, nan, nan, nan, nan, nan,\n       nan, nan, nan, nan, nan, nan, nan, nan, nan, nan, nan, nan, nan,\n       nan, nan, nan, nan, nan, nan, nan, nan, nan, nan, nan, nan, nan,\n       nan, nan, nan, nan, nan, nan, nan, nan, nan, nan, nan, nan, nan,\n       nan, nan, nan, nan, nan, nan, nan, nan, nan, nan, nan, nan, nan,\n       nan, nan, nan, nan, nan, nan, nan, nan, nan, nan, nan, nan, nan,\n       nan, nan, nan, nan, nan, nan, nan, nan, nan, nan, nan, nan, nan,\n       nan, nan, nan, nan, nan, nan, nan, nan, nan, nan, nan, nan, nan,\n       nan, nan, nan, nan, nan, nan, nan, nan, nan, nan, nan, nan, nan,\n       nan, nan, nan, nan, nan, nan, nan, nan, nan, nan, nan, nan, nan,\n       nan, nan, nan, nan, nan, nan, nan, nan, nan, nan, nan, nan, nan,\n       nan, nan, nan, nan, nan, nan, nan, nan, nan, nan, nan, nan, nan,\n       nan, nan, nan, nan, nan, nan, nan, nan, nan, nan, nan, nan, nan,\n       nan, nan, nan, nan, nan, nan, nan, nan, nan, nan, nan, nan, nan,\n       nan, nan, nan, nan, nan, nan, nan, nan, nan, nan])"
     },
     "execution_count": 51,
     "metadata": {},
     "output_type": "execute_result"
    }
   ],
   "source": [
    "b = lrr.get(\"bias\")\n",
    "w = lrr.get(\"w\")\n",
    "w"
   ],
   "metadata": {
    "collapsed": false,
    "pycharm": {
     "name": "#%%\n"
    }
   }
  },
  {
   "cell_type": "code",
   "execution_count": 52,
   "outputs": [
    {
     "data": {
      "text/plain": "nan"
     },
     "execution_count": 52,
     "metadata": {},
     "output_type": "execute_result"
    }
   ],
   "source": [
    "evaluation = sg.create_evaluation(\"MeanSquaredError\")\n",
    "mse = evaluation.evaluate(labels_predict, labels_test)\n",
    "mse"
   ],
   "metadata": {
    "collapsed": false,
    "pycharm": {
     "name": "#%%\n"
    }
   }
  },
  {
   "cell_type": "code",
   "execution_count": 52,
   "outputs": [],
   "source": [],
   "metadata": {
    "collapsed": false,
    "pycharm": {
     "name": "#%%\n"
    }
   }
  }
 ],
 "metadata": {
  "kernelspec": {
   "display_name": "Python 3",
   "language": "python",
   "name": "python3"
  },
  "language_info": {
   "codemirror_mode": {
    "name": "ipython",
    "version": 2
   },
   "file_extension": ".py",
   "mimetype": "text/x-python",
   "name": "python",
   "nbconvert_exporter": "python",
   "pygments_lexer": "ipython2",
   "version": "2.7.6"
  }
 },
 "nbformat": 4,
 "nbformat_minor": 0
}