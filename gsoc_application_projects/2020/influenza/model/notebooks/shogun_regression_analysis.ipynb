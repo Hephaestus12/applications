{
 "cells": [
  {
   "cell_type": "markdown",
   "metadata": {
    "pycharm": {
     "name": "#%% md\n"
    }
   },
   "source": [
    "## Regression Analysis\n",
    "\n",
    "We will try applying the regression methods that we have, available to us in the Shogun ML Library.\n",
    "\n",
    "We start off by importing the necessary libraries."
   ]
  },
  {
   "cell_type": "code",
   "execution_count": 2,
   "metadata": {},
   "outputs": [],
   "source": [
    "import pandas as pd\n",
    "import shogun as sg\n",
    "from pathlib import Path\n",
    "import matplotlib.pyplot as plt\n",
    "from scipy import stats\n",
    "plt.style.use(\"dark_background\")\n"
   ]
  },
  {
   "cell_type": "code",
   "execution_count": 3,
   "metadata": {
    "pycharm": {
     "name": "#%%\n"
    }
   },
   "outputs": [],
   "source": [
    "def load(path, is_labels=False):\n",
    "    if path.exists() and path.is_file():\n",
    "        df = pd.read_csv(path)\n",
    "        if is_labels:\n",
    "            df = pd.Series(df['incidence'])\n",
    "        return df.values"
   ]
  },
  {
   "cell_type": "markdown",
   "metadata": {},
   "source": [
    "Let's consider Italy. Most probably, what we will compute will remain the same for all the different countries."
   ]
  },
  {
   "cell_type": "code",
   "execution_count": 4,
   "metadata": {
    "pycharm": {
     "name": "#%%\n"
    }
   },
   "outputs": [],
   "source": [
    "country = 'italy'"
   ]
  },
  {
   "cell_type": "markdown",
   "metadata": {
    "pycharm": {
     "name": "#%% md\n"
    }
   },
   "source": [
    "getting all the datasets which we separated into the training and testing sets using test.py"
   ]
  },
  {
   "cell_type": "code",
   "execution_count": 5,
   "metadata": {
    "pycharm": {
     "name": "#%%\n"
    }
   },
   "outputs": [],
   "source": [
    "path = Path.cwd()\n",
    "country = 'italy'\n",
    "test_data_path = path.parent / 'data' / 'test' / country\n",
    "x_train_file_path = test_data_path / 'X_train.csv'\n",
    "y_train_file_path = test_data_path / 'y_train.csv'\n",
    "x_test_file_path = test_data_path / 'X_test.csv'\n",
    "y_test_file_path = test_data_path / 'y_test.csv'\n",
    "\n",
    "X_train = pd.read_csv(x_train_file_path).values\n",
    "y_train = pd.read_csv(y_train_file_path).values\n",
    "X_test = pd.read_csv(x_test_file_path).values\n",
    "y_test = pd.read_csv(y_test_file_path).values"
   ]
  },
  {
   "cell_type": "markdown",
   "metadata": {},
   "source": [
    "Using Shogun to apply Linear Ridge Regression."
   ]
  },
  {
   "cell_type": "markdown",
   "metadata": {
    "pycharm": {
     "name": "#%% md\n"
    }
   },
   "source": [
    "The first step is creating features and labels from the CSV files."
   ]
  },
  {
   "cell_type": "code",
   "execution_count": 6,
   "metadata": {
    "pycharm": {
     "name": "#%%\n"
    }
   },
   "outputs": [],
   "source": [
    "features_train = sg.create_features(load(x_train_file_path).T)\n",
    "features_test = sg.create_features(load(x_test_file_path).T)\n",
    "labels_train = sg.create_labels(load(y_train_file_path, is_labels=True))\n",
    "labels_test = sg.create_labels(load(y_test_file_path, is_labels=True))"
   ]
  },
  {
   "cell_type": "markdown",
   "metadata": {
    "pycharm": {
     "name": "#%% md\n"
    }
   },
   "source": [
    "We then create an instance of the Linear Ridge Regression."
   ]
  },
  {
   "cell_type": "code",
   "execution_count": 7,
   "metadata": {
    "pycharm": {
     "name": "#%%\n"
    }
   },
   "outputs": [],
   "source": [
    "lrr = sg.create_machine(\"LinearRidgeRegression\", tau=57, labels=labels_train, use_bias=False)"
   ]
  },
  {
   "cell_type": "markdown",
   "metadata": {
    "pycharm": {
     "name": "#%% md\n"
    }
   },
   "source": [
    "We also have to set up the cross validation splitting strategy for implementing cross validation."
   ]
  },
  {
   "cell_type": "markdown",
   "metadata": {
    "pycharm": {
     "is_executing": true,
     "name": "#%% md\n"
    }
   },
   "source": [
    "strategy = sg.create_splitting_strategy(\"CrossValidationSplitting\", labels=labels_train,\n",
    "                                        num_subsets=5, seed=1)\n",
    "\n",
    "evaluation_criterium = sg.create_evaluation(\"MeanSquaredError\")\n",
    "cross_validation = sg.create_machine_evaluation(\"CrossValidation\", machine=lrr,\n",
    "                                                features=features_train, labels=labels_train,\n",
    "                                                splitting_strategy=strategy,\n",
    "                                                evaluation_criterion=evaluation_criterium,\n",
    "                                                num_runs=10)\n",
    "result = cross_validation.evaluate()"
   ]
  },
  {
   "cell_type": "markdown",
   "metadata": {
    "pycharm": {
     "name": "#%% md\n"
    }
   },
   "source": [
    "We can now get the mean and the std deviation"
   ]
  },
  {
   "cell_type": "markdown",
   "metadata": {
    "pycharm": {
     "is_executing": true,
     "name": "#%% md\n"
    }
   },
   "source": [
    "mean = result.get(\"mean\")\n",
    "print('mean =\\t' + str(mean))"
   ]
  },
  {
   "cell_type": "markdown",
   "metadata": {
    "pycharm": {
     "is_executing": true,
     "name": "#%% md\n"
    }
   },
   "source": [
    "stddev = result.get(\"std_dev\")\n",
    "print('standard deviation =\\t' + str(stddev))"
   ]
  },
  {
   "cell_type": "markdown",
   "metadata": {
    "pycharm": {
     "name": "#%% md\n"
    }
   },
   "source": [
    "Finally we have to train and apply the model."
   ]
  },
  {
   "cell_type": "code",
   "execution_count": 8,
   "metadata": {
    "pycharm": {
     "name": "#%%\n"
    }
   },
   "outputs": [],
   "source": [
    "lrr.train(features_train)\n",
    "labels_predict = lrr.apply(features_test)\n",
    "labels_train_predict = lrr.apply(features_train)"
   ]
  },
  {
   "cell_type": "markdown",
   "metadata": {
    "pycharm": {
     "name": "#%% md\n"
    }
   },
   "source": [
    "We also find the mean squared error of this model as a measure of its accuracy"
   ]
  },
  {
   "cell_type": "code",
   "execution_count": 9,
   "metadata": {
    "pycharm": {
     "name": "#%%\n"
    }
   },
   "outputs": [
    {
     "name": "stdout",
     "output_type": "stream",
     "text": [
      "Mean Squared Error for Linear Ridge Regression is 7.9536753950385926\n"
     ]
    }
   ],
   "source": [
    "eval = sg.create_evaluation(\"MeanSquaredError\")\n",
    "mse = eval.evaluate(labels_predict, labels_test)\n",
    "print('Mean Squared Error for Linear Ridge Regression is '+str(mse))"
   ]
  },
  {
   "cell_type": "markdown",
   "metadata": {
    "pycharm": {
     "name": "#%% md\n"
    }
   },
   "source": [
    "Before we plot them, we have to convert all the labels into numpy style arrays."
   ]
  },
  {
   "cell_type": "code",
   "execution_count": 10,
   "metadata": {
    "pycharm": {
     "name": "#%%\n"
    }
   },
   "outputs": [],
   "source": [
    "y_train_predicted = labels_train_predict.get(\"labels\").reshape(labels_train_predict.get(\"labels\").shape[0])\n",
    "y_test_predicted = labels_predict.get(\"labels\").reshape(labels_predict.get(\"labels\").shape[0])\n",
    "y_train = y_train.reshape(y_train.shape[0])\n",
    "y_test = y_test.reshape(y_test.shape[0])"
   ]
  },
  {
   "cell_type": "code",
   "execution_count": 11,
   "metadata": {
    "pycharm": {
     "name": "#%%\n"
    }
   },
   "outputs": [
    {
     "data": {
      "image/png": "[encoded data removed]",
      "text/plain": "<Figure size 432x288 with 1 Axes>"
     },
     "metadata": {},
     "output_type": "display_data"
    },
    {
     "data": {
      "image/png": "[encoded data removed]",
      "text/plain": "<Figure size 432x288 with 1 Axes>"
     },
     "metadata": {},
     "output_type": "display_data"
    }
   ],
   "source": [
    "# Plot residuals\n",
    "plt.scatter(y_train, (y_train_predicted - y_train)/y_train, c = \"blue\", marker = \"s\", label = \"Training data\")\n",
    "plt.scatter(y_test, (y_test_predicted - y_test)/y_test, c = \"lightgreen\", marker = \"s\", label = \"Validation data\")\n",
    "plt.title(\"Linear regression with Ridge regularization\")\n",
    "plt.xlabel(\"Predicted values\")\n",
    "plt.ylabel(\"Relative Residuals\")\n",
    "plt.legend(loc = \"upper left\")\n",
    "plt.hlines(y = 0, xmin = -1, xmax = 15, color = \"red\")\n",
    "plt.show()\n",
    "\n",
    "# Plot predictions\n",
    "plt.scatter(y_train_predicted, y_train, c = \"blue\", marker = \"s\", label = \"Training data\")\n",
    "plt.scatter(y_test_predicted, y_test, c = \"lightgreen\", marker = \"s\", label = \"Validation data\")\n",
    "plt.title(\"Linear regression with Ridge regularization\")\n",
    "plt.xlabel(\"Predicted values\")\n",
    "plt.ylabel(\"Real values\")\n",
    "plt.legend(loc = \"upper left\")\n",
    "plt.plot([-1, 14], [-1, 14], c = \"red\")\n",
    "plt.show()"
   ]
  },
  {
   "cell_type": "markdown",
   "metadata": {
    "pycharm": {
     "name": "#%% md\n"
    }
   },
   "source": [
    "Now that we have successfully implemented Linear Ridge regression, we start off with implementing Random Forest\n",
    "\n",
    "We re-initialize the arrays."
   ]
  },
  {
   "cell_type": "code",
   "execution_count": 12,
   "metadata": {
    "pycharm": {
     "name": "#%%\n"
    }
   },
   "outputs": [],
   "source": [
    "X_train = pd.read_csv(x_train_file_path).values\n",
    "y_train = pd.read_csv(y_train_file_path).values\n",
    "X_test = pd.read_csv(x_test_file_path).values\n",
    "y_test = pd.read_csv(y_test_file_path).values"
   ]
  },
  {
   "cell_type": "markdown",
   "metadata": {
    "pycharm": {
     "name": "#%% md\n"
    }
   },
   "source": [
    "We then have to set up the instance of the Random Forest."
   ]
  },
  {
   "cell_type": "code",
   "execution_count": 13,
   "metadata": {
    "pycharm": {
     "name": "#%%\n"
    }
   },
   "outputs": [],
   "source": [
    "mean_rule = sg.create_combination_rule(\"MeanRule\")\n",
    "rand_forest = sg.create_machine(\"RandomForest\", labels=labels_train, num_bags=5,\n",
    "                                seed=1, combination_rule=mean_rule)"
   ]
  },
  {
   "cell_type": "markdown",
   "metadata": {
    "pycharm": {
     "name": "#%% md\n"
    }
   },
   "source": [
    "Finally we have to train and apply the model."
   ]
  },
  {
   "cell_type": "code",
   "execution_count": 14,
   "metadata": {
    "pycharm": {
     "name": "#%%\n"
    }
   },
   "outputs": [],
   "source": [
    "rand_forest.train(features_train)\n",
    "model_file_path = Path.cwd() / 'sample_austria_model.json'\n",
    "sg.serialize(str(model_file_path.absolute()), rand_forest, sg.JsonSerializer())"
   ]
  },
  {
   "cell_type": "code",
   "execution_count": 15,
   "metadata": {
    "pycharm": {
     "name": "#%%\n"
    }
   },
   "outputs": [],
   "source": [
    "rand = sg.as_machine(sg.deserialize(str(model_file_path.absolute()), sg.JsonDeserializer()))"
   ]
  },
  {
   "cell_type": "code",
   "execution_count": 15,
   "metadata": {
    "pycharm": {
     "name": "#%%\n"
    }
   },
   "outputs": [],
   "source": [
    "labels_predict = rand_forest.apply_regression(features_test)"
   ]
  },
  {
   "cell_type": "code",
   "execution_count": null,
   "outputs": [],
   "source": [
    "labels_train_predict = rand.apply_regression(features_train)\n"
   ],
   "metadata": {
    "collapsed": false,
    "pycharm": {
     "name": "#%%\n",
     "is_executing": true
    }
   }
  },
  {
   "cell_type": "markdown",
   "metadata": {},
   "source": [
    "We also find the mean squared error of this model as a measure of its accuracy"
   ]
  },
  {
   "cell_type": "code",
   "execution_count": null,
   "metadata": {
    "pycharm": {
     "is_executing": true,
     "name": "#%%\n"
    }
   },
   "outputs": [],
   "source": [
    "mse = sg.create_evaluation(\"MeanSquaredError\")\n",
    "rand.put(\"oob_evaluation_metric\", mse)\n",
    "oob = rand.get(\"oob_error\")\n",
    "mserror = mse.evaluate(labels_predict, labels_test)\n",
    "print('Mean Squared Error for Random Forest(Regression) is '+str(mserror))"
   ]
  },
  {
   "cell_type": "markdown",
   "metadata": {},
   "source": [
    "Before we plot them, we have to convert all the labels into numpy style arrays."
   ]
  },
  {
   "cell_type": "code",
   "execution_count": null,
   "metadata": {
    "pycharm": {
     "is_executing": true,
     "name": "#%%\n"
    }
   },
   "outputs": [],
   "source": [
    "y_train_predicted = labels_train_predict.get(\"labels\").reshape(labels_train_predict.get(\"labels\").shape[0])\n",
    "y_test_predicted = labels_predict.get(\"labels\").reshape(labels_predict.get(\"labels\").shape[0])\n",
    "y_train = y_train.reshape(y_train.shape[0])\n",
    "y_test = y_test.reshape(y_test.shape[0])"
   ]
  },
  {
   "cell_type": "code",
   "execution_count": null,
   "metadata": {
    "pycharm": {
     "is_executing": true,
     "name": "#%%\n"
    }
   },
   "outputs": [],
   "source": [
    "# Plot residuals\n",
    "plt.scatter(y_train, (y_train_predicted - y_train)/y_train, c = \"blue\", marker = \"s\", label = \"Training data\")\n",
    "plt.scatter(y_test, (y_test_predicted - y_test)/y_test, c = \"lightgreen\", marker = \"s\", label = \"Validation data\")\n",
    "plt.title(\"Random Forest with Mean Rule\")\n",
    "plt.xlabel(\"Predicted values\")\n",
    "plt.ylabel(\"Relative Residuals\")\n",
    "plt.legend(loc = \"upper left\")\n",
    "plt.hlines(y = 0, xmin = -1, xmax = 15, color = \"red\")\n",
    "plt.show()\n",
    "\n",
    "# Plot predictions\n",
    "plt.scatter(y_train_predicted, y_train, c = \"blue\", marker = \"s\", label = \"Training data\")\n",
    "plt.scatter(y_test_predicted, y_test, c = \"lightgreen\", marker = \"s\", label = \"Validation data\")\n",
    "plt.title(\"Random Forest with Mean Rule\")\n",
    "plt.xlabel(\"Predicted values\")\n",
    "plt.ylabel(\"Real values\")\n",
    "plt.legend(loc = \"upper left\")\n",
    "plt.plot([-1, 14], [-1, 14], c = \"red\")\n",
    "plt.show()"
   ]
  },
  {
   "cell_type": "markdown",
   "metadata": {
    "pycharm": {
     "name": "#%% md\n"
    }
   },
   "source": [
    "Lets have a loop that checks which is better for the different countries, random forest or Linear Ridge."
   ]
  },
  {
   "cell_type": "code",
   "execution_count": null,
   "metadata": {
    "pycharm": {
     "is_executing": true,
     "name": "#%%\n"
    }
   },
   "outputs": [],
   "source": [
    "from src import config\n",
    "lrr_mse = {}\n",
    "rf_mse = {}\n",
    "alpha = {\n",
    "    'austria':19.5,\n",
    "    'belgium':84,\n",
    "    'germany':37.5,\n",
    "    'italy':57,\n",
    "    'netherlands':84\n",
    "}\n",
    "config.COUNTRIES"
   ]
  },
  {
   "cell_type": "code",
   "execution_count": null,
   "metadata": {
    "pycharm": {
     "is_executing": true,
     "name": "#%%\n"
    }
   },
   "outputs": [],
   "source": [
    "for country in config.COUNTRIES:\n",
    "    print('for '+country)\n",
    "    test_data_path = path.parent / 'data' / 'test' / country\n",
    "    x_train_file_path = test_data_path / 'X_train.csv'\n",
    "    y_train_file_path = test_data_path / 'y_train.csv'\n",
    "    x_test_file_path = test_data_path / 'X_test.csv'\n",
    "    y_test_file_path = test_data_path / 'y_test.csv'\n",
    "\n",
    "    X_train = pd.read_csv(x_train_file_path).values\n",
    "    y_train = pd.read_csv(y_train_file_path).values\n",
    "    X_test = pd.read_csv(x_test_file_path).values\n",
    "    y_test = pd.read_csv(y_test_file_path).values\n",
    "\n",
    "    features_train = sg.create_features(load(x_train_file_path).T)\n",
    "    features_test = sg.create_features(load(x_test_file_path).T)\n",
    "    labels_train = sg.create_labels(load(y_train_file_path, is_labels=True))\n",
    "    labels_test = sg.create_labels(load(y_test_file_path, is_labels=True))\n",
    "\n",
    "    lrr = sg.create_machine(\"LinearRidgeRegression\", tau=alpha[country], labels=labels_train, use_bias=False)\n",
    "    strategy = sg.create_splitting_strategy(\"CrossValidationSplitting\", labels=labels_train,\n",
    "                                        num_subsets=5, seed=1)\n",
    "\n",
    "    evaluation_criterium = sg.create_evaluation(\"MeanSquaredError\")\n",
    "    cross_validation = sg.create_machine_evaluation(\"CrossValidation\", machine=lrr,\n",
    "                                                features=features_train, labels=labels_train,\n",
    "                                                splitting_strategy=strategy,\n",
    "                                                evaluation_criterion=evaluation_criterium,\n",
    "                                                num_runs=10)\n",
    "    result = cross_validation.evaluate()\n",
    "    lrr.train(features_train)\n",
    "    labels_predict = lrr.apply(features_test)\n",
    "    labels_train_predict = lrr.apply(features_train)\n",
    "    eval = sg.create_evaluation(\"MeanSquaredError\")\n",
    "    lrr_mse[country] = eval.evaluate(labels_predict, labels_test)\n",
    "\n",
    "    y_train_predicted = labels_train_predict.get(\"labels\").reshape(labels_train_predict.get(\"labels\").shape[0])\n",
    "    y_test_predicted = labels_predict.get(\"labels\").reshape(labels_predict.get(\"labels\").shape[0])\n",
    "    y_train = y_train.reshape(y_train.shape[0])\n",
    "    y_test = y_test.reshape(y_test.shape[0])\n",
    "\n",
    "    pearson_lrr = stats.pearsonr(y_test, y_test_predicted)\n",
    "    print('\\tPearson coefficient using lrr = '+str(pearson_lrr))\n",
    "\n",
    "    mean_rule = sg.create_combination_rule(\"MeanRule\")\n",
    "    rand_forest = sg.create_machine(\"RandomForest\", labels=labels_train, num_bags=5,\n",
    "                                seed=1, combination_rule=mean_rule)\n",
    "\n",
    "    rand_forest.train(features_train)\n",
    "\n",
    "\n",
    "    labels_predict = rand_forest.apply_regression(features_test)\n",
    "    labels_train_predict = rand_forest.apply_regression(features_train)\n",
    "\n",
    "    mse = sg.create_evaluation(\"MeanSquaredError\")\n",
    "    rand_forest.put(\"oob_evaluation_metric\", mse)\n",
    "    oob = rand_forest.get(\"oob_error\")\n",
    "    rf_mse[country] = mse.evaluate(labels_predict, labels_test)\n",
    "\n",
    "\n",
    "\n",
    "    # if rf_mse[country] < lrr_mse[country]:\n",
    "    #     print(country + ':\\tRandom Forest')\n",
    "    # else:\n",
    "    #     print(country + ':\\tLinear Ridge Regression')\n",
    "\n",
    "    y_train_predicted = labels_train_predict.get(\"labels\").reshape(labels_train_predict.get(\"labels\").shape[0])\n",
    "    y_test_predicted = labels_predict.get(\"labels\").reshape(labels_predict.get(\"labels\").shape[0])\n",
    "    y_train = y_train.reshape(y_train.shape[0])\n",
    "    y_test = y_test.reshape(y_test.shape[0])\n",
    "\n",
    "    pearson_rf = stats.pearsonr(y_test, y_test_predicted)\n",
    "\n",
    "\n",
    "\n",
    "    print('\\tPearson coefficient using random forest = '+str(pearson_rf))\n",
    "    print('\\tMSE using LRR = '+str(lrr_mse[country]))\n",
    "    print('\\tMSE using random forest = '+str(rf_mse[country]))\n",
    "\n",
    "    # # Plot residuals\n",
    "    # plt.scatter(y_train, (y_train_predicted - y_train)/y_train, c = \"blue\", marker = \"s\", label = \"Training data\")\n",
    "    # plt.scatter(y_test, (y_test_predicted - y_test)/y_test, c = \"lightgreen\", marker = \"s\", label = \"Validation data\")\n",
    "    # plt.title(country+\": Random Forest with Mean Rule\")\n",
    "    # plt.xlabel(\"Predicted values\")\n",
    "    # plt.ylabel(\"Relative Residuals\")\n",
    "    # plt.legend(loc = \"upper left\")\n",
    "    # plt.hlines(y = 0, xmin = -1, xmax = 15, color = \"red\")\n",
    "    # plt.show()\n",
    "    #\n",
    "    # # Plot predictions\n",
    "    # plt.scatter(y_train_predicted, y_train, c = \"blue\", marker = \"s\", label = \"Training data\")\n",
    "    # plt.scatter(y_test_predicted, y_test, c = \"lightgreen\", marker = \"s\", label = \"Validation data\")\n",
    "    # plt.title(country+\": Random Forest with Mean Rule\")\n",
    "    # plt.xlabel(\"Predicted values\")\n",
    "    # plt.ylabel(\"Real values\")\n",
    "    # plt.legend(loc = \"upper left\")\n",
    "    # plt.plot([-1, 14], [-1, 14], c = \"red\")\n",
    "    # plt.show()"
   ]
  },
  {
   "cell_type": "markdown",
   "metadata": {
    "pycharm": {
     "name": "#%% md\n"
    }
   },
   "source": [
    "Hence we conclude that Random forest is the better model for all the countries."
   ]
  },
  {
   "cell_type": "code",
   "execution_count": null,
   "metadata": {
    "pycharm": {
     "is_executing": true,
     "name": "#%%\n"
    }
   },
   "outputs": [],
   "source": []
  }
 ],
 "metadata": {
  "kernelspec": {
   "display_name": "Python 3",
   "language": "python",
   "name": "python3"
  },
  "language_info": {
   "codemirror_mode": {
    "name": "ipython",
    "version": 3
   },
   "file_extension": ".py",
   "mimetype": "text/x-python",
   "name": "python",
   "nbconvert_exporter": "python",
   "pygments_lexer": "ipython3",
   "version": "3.5.5"
  }
 },
 "nbformat": 4,
 "nbformat_minor": 1
}