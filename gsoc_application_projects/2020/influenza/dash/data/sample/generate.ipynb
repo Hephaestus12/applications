{
 "nbformat": 4,
 "nbformat_minor": 2,
 "metadata": {
  "language_info": {
   "name": "python",
   "codemirror_mode": {
    "name": "ipython",
    "version": 3
   },
   "version": "3.5.5-final"
  },
  "orig_nbformat": 2,
  "file_extension": ".py",
  "mimetype": "text/x-python",
  "name": "python",
  "npconvert_exporter": "python",
  "pygments_lexer": "ipython3",
  "version": 3,
  "kernelspec": {
   "name": "python35564bite6ddbd5bbab04a30ad6923401d29ed67",
   "display_name": "Python 3.5.5 64-bit"
  }
 },
 "cells": [
  {
   "cell_type": "code",
   "execution_count": 17,
   "metadata": {},
   "outputs": [],
   "source": [
    "import pandas\n",
    "import numpy\n",
    "from random import randint\n",
    ""
   ]
  },
  {
   "cell_type": "code",
   "execution_count": 19,
   "metadata": {},
   "outputs": [],
   "source": [
    "COUNTRIES = ['austria', 'belgium', 'germany', 'italy', 'netherlands']\n",
    "for country in COUNTRIES:\n",
    "    cases = []\n",
    "    for i in range(52):\n",
    "        cases.append([i, randint(0, 100)])\n",
    "    cases.append(['current', randint(0, 100)])\n",
    "    df = pandas.DataFrame(cases, columns = ['Week', 'Cases'])\n",
    "    df.to_csv(country + '.csv')\n",
    ""
   ]
  },
  {
   "cell_type": "code",
   "execution_count": null,
   "metadata": {},
   "outputs": [],
   "source": []
  }
 ]
}